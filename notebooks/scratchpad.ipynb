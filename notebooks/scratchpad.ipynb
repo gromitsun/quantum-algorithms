{
 "cells": [
  {
   "cell_type": "code",
   "execution_count": 1,
   "metadata": {},
   "outputs": [],
   "source": [
    "import qiskit\n",
    "from qiskit import QuantumCircuit, QuantumRegister, execute, BasicAer, ClassicalRegister, IBMQ\n",
    "from qiskit.compiler import transpile"
   ]
  },
  {
   "cell_type": "code",
   "execution_count": 2,
   "metadata": {},
   "outputs": [],
   "source": [
    "qasm = \"\"\"\\\n",
    "OPENQASM 2.0;\n",
    "include \"qelib1.inc\";\n",
    "qreg q[3];\n",
    "ry(1.42959172294254) q[0];\n",
    "ry(2.89888708742281) q[1];\n",
    "cx q[0],q[1];\n",
    "ry(1.09639370892771) q[0];\n",
    "ry(-0.930163527890557) q[1];\n",
    "ry(1.47262155637022) q[2];\n",
    "cx q[0],q[2];\n",
    "ry(-0.0981747704246810) q[2];\n",
    "cx q[1],q[2];\n",
    "ry(0.0981747704246810) q[2];\n",
    "cx q[0],q[2];\n",
    "ry(-0.294524311274043) q[2];\n",
    "cx q[1],q[2];\\\n",
    "\"\"\"\n",
    "qc = QuantumCircuit.from_qasm_str(qasm)\n",
    "\n",
    "qasm += \"\"\"\\\n",
    "creg c[3];\n",
    "measure q[0] -> c[0];\n",
    "measure q[1] -> c[1];\n",
    "measure q[2] -> c[2];\\\n",
    "\"\"\"\n",
    "qc_m = QuantumCircuit.from_qasm_str(qasm)"
   ]
  },
  {
   "cell_type": "code",
   "execution_count": 9,
   "metadata": {},
   "outputs": [
    {
     "data": {
      "text/html": [
       "<pre style=\"word-wrap: normal;white-space: pre;background: #fff0;line-height: 1.1;font-family: &quot;Courier New&quot;,Courier,monospace\">     ┌────────────┐      ┌────────────┐                                      »\n",
       "q_0: ┤ RY(1.4296) ├──■───┤ RY(1.0964) ├───■──────────────────────────────────»\n",
       "     ├────────────┤┌─┴─┐┌┴────────────┴┐  │                                  »\n",
       "q_1: ┤ RY(2.8989) ├┤ X ├┤ RY(-0.93016) ├──┼──────────────────■───────────────»\n",
       "     ├────────────┤└───┘└──────────────┘┌─┴─┐┌────────────┐┌─┴─┐┌───────────┐»\n",
       "q_2: ┤ RY(1.4726) ├─────────────────────┤ X ├┤ RY(-pi/32) ├┤ X ├┤ RY(pi/32) ├»\n",
       "     └────────────┘                     └───┘└────────────┘└───┘└───────────┘»\n",
       "«                               \n",
       "«q_0: ──■───────────────────────\n",
       "«       │                       \n",
       "«q_1: ──┼────────────────────■──\n",
       "«     ┌─┴─┐┌──────────────┐┌─┴─┐\n",
       "«q_2: ┤ X ├┤ RY(-0.29452) ├┤ X ├\n",
       "«     └───┘└──────────────┘└───┘</pre>"
      ],
      "text/plain": [
       "     ┌────────────┐      ┌────────────┐                                      »\n",
       "q_0: ┤ RY(1.4296) ├──■───┤ RY(1.0964) ├───■──────────────────────────────────»\n",
       "     ├────────────┤┌─┴─┐┌┴────────────┴┐  │                                  »\n",
       "q_1: ┤ RY(2.8989) ├┤ X ├┤ RY(-0.93016) ├──┼──────────────────■───────────────»\n",
       "     ├────────────┤└───┘└──────────────┘┌─┴─┐┌────────────┐┌─┴─┐┌───────────┐»\n",
       "q_2: ┤ RY(1.4726) ├─────────────────────┤ X ├┤ RY(-pi/32) ├┤ X ├┤ RY(pi/32) ├»\n",
       "     └────────────┘                     └───┘└────────────┘└───┘└───────────┘»\n",
       "«                               \n",
       "«q_0: ──■───────────────────────\n",
       "«       │                       \n",
       "«q_1: ──┼────────────────────■──\n",
       "«     ┌─┴─┐┌──────────────┐┌─┴─┐\n",
       "«q_2: ┤ X ├┤ RY(-0.29452) ├┤ X ├\n",
       "«     └───┘└──────────────┘└───┘"
      ]
     },
     "execution_count": 9,
     "metadata": {},
     "output_type": "execute_result"
    }
   ],
   "source": [
    "qc.draw()"
   ]
  },
  {
   "cell_type": "code",
   "execution_count": 4,
   "metadata": {},
   "outputs": [
    {
     "data": {
      "text/plain": [
       "array([[ 0.02917122+0.j, -0.56551617+0.j, -0.35067171+0.j,\n",
       "         0.49770631+0.j, -0.01949158+0.j,  0.37786582+0.j,\n",
       "         0.23431134+0.j, -0.33255673+0.j],\n",
       "       [ 0.61902956+0.j,  0.34740469+0.j, -0.42932798+0.j,\n",
       "         0.05596061+0.j, -0.41362233+0.j, -0.23212839+0.j,\n",
       "         0.28686778+0.j, -0.03739168+0.j],\n",
       "       [ 0.46102224+0.j, -0.23568516+0.j,  0.47963673+0.j,\n",
       "         0.04312319+0.j, -0.46102224+0.j,  0.23568516+0.j,\n",
       "        -0.47963673+0.j, -0.04312319+0.j],\n",
       "       [ 0.07739211+0.j, -0.27875029+0.j, -0.17160658+0.j,\n",
       "        -0.4421744 +0.j, -0.11582547+0.j,  0.41717929+0.j,\n",
       "         0.25682739+0.j,  0.66176076+0.j],\n",
       "       [ 0.01949158+0.j, -0.37786582+0.j, -0.23431134+0.j,\n",
       "         0.33255673+0.j,  0.02917122+0.j, -0.56551617+0.j,\n",
       "        -0.35067171+0.j,  0.49770631+0.j],\n",
       "       [ 0.41362233+0.j,  0.23212839+0.j, -0.28686778+0.j,\n",
       "         0.03739168+0.j,  0.61902956+0.j,  0.34740469+0.j,\n",
       "        -0.42932798+0.j,  0.05596061+0.j],\n",
       "       [ 0.46102224+0.j, -0.23568516+0.j,  0.47963673+0.j,\n",
       "         0.04312319+0.j,  0.46102224+0.j, -0.23568516+0.j,\n",
       "         0.47963673+0.j,  0.04312319+0.j],\n",
       "       [ 0.11582547+0.j, -0.41717929+0.j, -0.25682739+0.j,\n",
       "        -0.66176076+0.j,  0.07739211+0.j, -0.27875029+0.j,\n",
       "        -0.17160658+0.j, -0.4421744 +0.j]])"
      ]
     },
     "execution_count": 4,
     "metadata": {},
     "output_type": "execute_result"
    }
   ],
   "source": [
    "job = execute(qc, BasicAer.get_backend('unitary_simulator'))\n",
    "job.result().get_unitary()"
   ]
  },
  {
   "cell_type": "code",
   "execution_count": 5,
   "metadata": {},
   "outputs": [
    {
     "data": {
      "text/plain": [
       "array([0.02917122+0.j, 0.61902956+0.j, 0.46102224+0.j, 0.07739211+0.j,\n",
       "       0.01949158+0.j, 0.41362233+0.j, 0.46102224+0.j, 0.11582547+0.j])"
      ]
     },
     "execution_count": 5,
     "metadata": {},
     "output_type": "execute_result"
    }
   ],
   "source": [
    "job = execute(qc, BasicAer.get_backend('statevector_simulator'))\n",
    "job.result().get_statevector()"
   ]
  },
  {
   "cell_type": "code",
   "execution_count": 7,
   "metadata": {},
   "outputs": [
    {
     "data": {
      "text/plain": [
       "{'000': 7,\n",
       " '010': 1699,\n",
       " '100': 1,\n",
       " '110': 1748,\n",
       " '111': 102,\n",
       " '001': 3241,\n",
       " '101': 1349,\n",
       " '011': 45}"
      ]
     },
     "execution_count": 7,
     "metadata": {},
     "output_type": "execute_result"
    }
   ],
   "source": [
    "job = execute(qc_m, BasicAer.get_backend('qasm_simulator'), shots=8192)\n",
    "job.result().get_counts()"
   ]
  },
  {
   "cell_type": "code",
   "execution_count": 1,
   "metadata": {},
   "outputs": [
    {
     "name": "stdout",
     "output_type": "stream",
     "text": [
      "Adding project home: /home/yue/dev/code/quantum\n"
     ]
    }
   ],
   "source": [
    "import sys\n",
    "import os\n",
    "__PROJECT_ROOT__ = os.path.dirname(os.getcwd())\n",
    "print(\"Adding project home: %s\" % __PROJECT_ROOT__)\n",
    "sys.path.append(__PROJECT_ROOT__)"
   ]
  },
  {
   "cell_type": "code",
   "execution_count": 2,
   "metadata": {},
   "outputs": [
    {
     "data": {
      "text/plain": [
       "array([[ 7.07106781e-01+0.j        , -4.32978028e-17-0.70710678j],\n",
       "       [ 4.32978028e-17-0.70710678j,  7.07106781e-01+0.j        ]])"
      ]
     },
     "execution_count": 2,
     "metadata": {},
     "output_type": "execute_result"
    }
   ],
   "source": [
    "import qiskit\n",
    "import numpy as np\n",
    "from utils.simulator import get_unitary\n",
    "\n",
    "qc = qiskit.QuantumCircuit(1)\n",
    "\n",
    "qc.rx(np.pi/2, 0)\n",
    "# qc.z(0)\n",
    "# qc.rx(-np.pi/2, 0)\n",
    "\n",
    "get_unitary(qc)"
   ]
  },
  {
   "cell_type": "code",
   "execution_count": 13,
   "metadata": {},
   "outputs": [
    {
     "data": {
      "text/plain": [
       "matrix([[ 1.+0.00000000e+00j,  0.-1.79380389e-16j],\n",
       "        [-0.+1.99673462e-16j, -1.+0.00000000e+00j]])"
      ]
     },
     "execution_count": 13,
     "metadata": {},
     "output_type": "execute_result"
    }
   ],
   "source": [
    "from analytical.basic_gates import rx, ry, rz, pauli_x, pauli_y, pauli_z\n",
    "\n",
    "rx(np.pi/2)*pauli_y*rx(-np.pi/2)"
   ]
  },
  {
   "cell_type": "code",
   "execution_count": 12,
   "metadata": {},
   "outputs": [
    {
     "data": {
      "text/plain": [
       "matrix([[ 1.+0.000000e+00j,  0.-6.123234e-17j],\n",
       "        [ 0.+6.123234e-17j, -1.+0.000000e+00j]])"
      ]
     },
     "execution_count": 12,
     "metadata": {},
     "output_type": "execute_result"
    }
   ],
   "source": [
    "rx(np.pi)*pauli_y"
   ]
  },
  {
   "cell_type": "code",
   "execution_count": null,
   "metadata": {},
   "outputs": [],
   "source": []
  }
 ],
 "metadata": {
  "kernelspec": {
   "display_name": "Python 3",
   "language": "python",
   "name": "python3"
  },
  "language_info": {
   "codemirror_mode": {
    "name": "ipython",
    "version": 3
   },
   "file_extension": ".py",
   "mimetype": "text/x-python",
   "name": "python",
   "nbconvert_exporter": "python",
   "pygments_lexer": "ipython3",
   "version": "3.8.2"
  }
 },
 "nbformat": 4,
 "nbformat_minor": 4
}
