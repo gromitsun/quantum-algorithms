{
 "cells": [
  {
   "cell_type": "code",
   "execution_count": 1,
   "metadata": {},
   "outputs": [],
   "source": [
    "import qiskit\n",
    "import numpy as np\n",
    "\n",
    "%matplotlib inline\n",
    "import matplotlib.pyplot as plt"
   ]
  },
  {
   "cell_type": "markdown",
   "metadata": {},
   "source": [
    "# Key operators"
   ]
  },
  {
   "cell_type": "code",
   "execution_count": 2,
   "metadata": {},
   "outputs": [],
   "source": [
    "def init_source_op(qc, q, source):\n",
    "    \"\"\"Construct the source state from all 0's state\"\"\"\n",
    "    for qbit, sbit in zip(q, source):\n",
    "        if sbit:\n",
    "            qc.x(qbit)\n",
    "\n",
    "def a_op(qc, q):\n",
    "    \"\"\"Construct all equal superposition from initial (source) state\"\"\"\n",
    "    list(map(qc.h, q))\n",
    "    \n",
    "def mcz_op(qc, controls, target):\n",
    "    \"\"\"Multi-controlled-Z operator\"\"\"\n",
    "    return qc.mcu1(np.pi, controls, target)\n",
    "    \n",
    "def ss_op(qc, q, source):\n",
    "    \"\"\"Reflection about initial (source) state\"\"\"\n",
    "    # flip qubits corresponding to a zero source bit\n",
    "    for qbit, sbit in zip(q, source):\n",
    "        if not sbit:\n",
    "            qc.x(qbit)\n",
    "    # multi-controlled-Z\n",
    "    qc.mcu1(np.pi, q[:-1], q[-1])\n",
    "    # flip qubits corresponding to a zero source bit\n",
    "    for qbit, sbit in zip(q, source):\n",
    "        if not sbit:\n",
    "            qc.x(qbit)\n",
    "    \n",
    "def st_op(qc, q, target):\n",
    "    \"\"\"Reflection about target state (t)\"\"\"\n",
    "    # flip qubits corresponding to a zero target bit\n",
    "    for qbit, tbit in zip(q, target):\n",
    "        if not tbit:\n",
    "            qc.x(qbit)\n",
    "    # multi-controlled-Z\n",
    "    qc.mcu1(np.pi, q[:-1], q[-1])\n",
    "    # flip qubits corresponding to a zero target bit\n",
    "    for qbit, tbit in zip(q, target):\n",
    "        if not tbit:\n",
    "            qc.x(qbit)\n",
    "\n",
    "def grover_op(qc, q, source, target):\n",
    "    \"\"\"Operator for one Grover iteration\"\"\"\n",
    "    st_op(qc, q, target)\n",
    "    a_op(qc, q)\n",
    "    ss_op(qc, q, source)\n",
    "    a_op(qc, q)"
   ]
  },
  {
   "cell_type": "markdown",
   "metadata": {},
   "source": [
    "# Construct quantum circuit"
   ]
  },
  {
   "cell_type": "code",
   "execution_count": 3,
   "metadata": {},
   "outputs": [
    {
     "name": "stdout",
     "output_type": "stream",
     "text": [
      "Optimal number of iterations = 4\n",
      "------- operation counts (raw) -------\n",
      "h: 45\n",
      "x: 29\n",
      "mcu1: 8\n",
      "------- operation counts (decomposed) -------\n",
      "cu1: 120\n",
      "cx: 112\n",
      "u2: 45\n",
      "u3: 29\n"
     ]
    }
   ],
   "source": [
    "# inputs\n",
    "n = 5\n",
    "source = [1, 1, 1, 1, 1]\n",
    "target = [0, 1, 0, 1, 0]\n",
    "\n",
    "# optimal iterations\n",
    "niter = int(np.round(np.pi*np.sqrt(2**n)/4))\n",
    "print(\"Optimal number of iterations = %s\" % niter)\n",
    "\n",
    "# quantum circuit\n",
    "q = qiskit.QuantumRegister(n, name='q')\n",
    "c = qiskit.ClassicalRegister(n, name='c')\n",
    "qc = qiskit.QuantumCircuit(q, c, name='qc')\n",
    "\n",
    "# initialize\n",
    "# construct source\n",
    "init_source_op(qc, q, source)\n",
    "# construct equal superposition\n",
    "a_op(qc, q)\n",
    "\n",
    "# Grover iterations\n",
    "for _ in range(niter):\n",
    "    grover_op(qc, q, source, target)\n",
    "    \n",
    "# measurement\n",
    "list(map(lambda x: qc.measure(*x), zip(q, c)))\n",
    "\n",
    "print(\"------- operation counts (raw) -------\")\n",
    "for op, count in qc.count_ops().items():\n",
    "    if op == 'measure':\n",
    "        continue\n",
    "    print(\"%s: %d\" % (op, count))\n",
    "    \n",
    "print(\"------- operation counts (decomposed) -------\")\n",
    "for op, count in qc.decompose().count_ops().items():\n",
    "    if op == 'measure':\n",
    "        continue\n",
    "    print(\"%s: %d\" % (op, count))\n",
    "\n",
    "# qc.draw()"
   ]
  },
  {
   "cell_type": "markdown",
   "metadata": {},
   "source": [
    "# Qiskit simulation"
   ]
  },
  {
   "cell_type": "code",
   "execution_count": 4,
   "metadata": {},
   "outputs": [
    {
     "data": {
      "text/plain": [
       "{'00110': 1, '01110': 1, '00111': 1, '01010': 4091, '11001': 1, '01111': 1}"
      ]
     },
     "execution_count": 4,
     "metadata": {},
     "output_type": "execute_result"
    }
   ],
   "source": [
    "# qasm simulator\n",
    "backend = qiskit.BasicAer.get_backend('qasm_simulator')\n",
    "job = qiskit.execute(qc, backend, shots=4096)\n",
    "job.result().get_counts()"
   ]
  },
  {
   "cell_type": "code",
   "execution_count": 5,
   "metadata": {},
   "outputs": [
    {
     "data": {
      "text/plain": [
       "array([ 0.00513585+2.01817982e-16j, -0.00513585-1.79283858e-16j,\n",
       "       -0.00513585-3.85323284e-17j,  0.00513585+1.74717937e-17j,\n",
       "       -0.00513585-1.95220087e-16j,  0.00513585+1.58167691e-16j,\n",
       "        0.00513585+1.85523931e-16j, -0.00513585-1.60393032e-16j,\n",
       "       -0.00513585-1.56546695e-16j,  0.00513585+1.31661678e-16j,\n",
       "       -0.99959107+4.22842098e-15j, -0.00513585-3.06979310e-17j,\n",
       "        0.00513585+1.30095278e-16j, -0.00513585-1.89678090e-16j,\n",
       "       -0.00513585-1.79626059e-16j,  0.00513585+1.69833800e-16j,\n",
       "       -0.00513585-2.01071546e-16j,  0.00513585+1.98018498e-16j,\n",
       "        0.00513585+1.14123338e-16j, -0.00513585-8.57442531e-17j,\n",
       "        0.00513585+2.11572568e-16j, -0.00513585-1.82705472e-16j,\n",
       "       -0.00513585-1.26509455e-16j,  0.00513585+6.12178920e-17j,\n",
       "        0.00513585+2.02107383e-16j, -0.00513585-1.41123589e-16j,\n",
       "       -0.00513585-2.12471118e-16j,  0.00513585+1.48845949e-16j,\n",
       "       -0.00513585-1.44424712e-16j,  0.00513585+2.15813522e-16j,\n",
       "        0.00513585+1.68619679e-16j, -0.00513585-1.52824767e-16j])"
      ]
     },
     "execution_count": 5,
     "metadata": {},
     "output_type": "execute_result"
    }
   ],
   "source": [
    "# state vector simulator\n",
    "backend = qiskit.BasicAer.get_backend('statevector_simulator')\n",
    "qc.remove_final_measurements()\n",
    "job = qiskit.execute(qc, backend)\n",
    "job.result().get_statevector()"
   ]
  },
  {
   "cell_type": "code",
   "execution_count": 6,
   "metadata": {},
   "outputs": [
    {
     "data": {
      "text/plain": [
       "array([[ 0.00513585+2.01817982e-16j, -0.1502343 +1.66197394e-16j,\n",
       "        -0.20331909+8.17573167e-16j, ..., -0.20331909+4.98735567e-16j,\n",
       "        -0.1502343 +2.55965500e-16j, -0.1502343 +4.85696806e-17j],\n",
       "       [-0.00513585-1.79283858e-16j, -0.20331909+4.91065620e-16j,\n",
       "         0.20331909-7.30455245e-16j, ..., -0.1502343 +7.93498475e-17j,\n",
       "         0.1502343 -2.15809002e-16j, -0.20331909+3.28405901e-16j],\n",
       "       [-0.00513585-3.85323284e-17j,  0.1502343 -2.81928852e-16j,\n",
       "        -0.1502343 +5.51354854e-16j, ...,  0.20331909-5.18069599e-16j,\n",
       "        -0.20331909+6.31692619e-16j, -0.20331909+4.88476979e-16j],\n",
       "       ...,\n",
       "       [ 0.00513585+2.15813522e-16j,  0.20331909-3.62667060e-16j,\n",
       "        -0.20331909+6.78000287e-16j, ..., -0.20331909+3.28734663e-16j,\n",
       "         0.20331909-4.75935358e-16j, -0.1502343 -3.66924583e-17j],\n",
       "       [ 0.00513585+1.68619679e-16j, -0.1502343 +1.88692287e-16j,\n",
       "         0.1502343 -4.49169896e-16j, ...,  0.1502343 -2.53386425e-16j,\n",
       "        -0.1502343 +3.61966103e-16j, -0.1502343 +2.02524106e-16j],\n",
       "       [-0.00513585-1.52824767e-16j, -0.20331909+4.49834108e-16j,\n",
       "        -0.1502343 +4.02523322e-16j, ...,  0.20331909-4.71226267e-16j,\n",
       "         0.1502343 -3.23179386e-16j, -0.20331909+3.97651060e-16j]])"
      ]
     },
     "execution_count": 6,
     "metadata": {},
     "output_type": "execute_result"
    }
   ],
   "source": [
    "backend = qiskit.BasicAer.get_backend('unitary_simulator')\n",
    "qc.remove_final_measurements()\n",
    "job = qiskit.execute(qc, backend)\n",
    "job.result().get_unitary()"
   ]
  },
  {
   "cell_type": "markdown",
   "metadata": {},
   "source": [
    "# Analysis"
   ]
  },
  {
   "cell_type": "code",
   "execution_count": 7,
   "metadata": {},
   "outputs": [
    {
     "data": {
      "image/png": "[encoded data removed]",
      "text/plain": [
       "<Figure size 432x288 with 1 Axes>"
      ]
     },
     "metadata": {
      "needs_background": "light"
     },
     "output_type": "display_data"
    }
   ],
   "source": [
    "# success rate vs number of iterations\n",
    "\n",
    "# inputs\n",
    "n = 5\n",
    "source = [1, 1, 1, 1, 1]\n",
    "target = [0, 1, 0, 1, 0]\n",
    "\n",
    "# simulation parameters\n",
    "backend = qiskit.BasicAer.get_backend('qasm_simulator')\n",
    "shots = 4096\n",
    "niters = list(range(9))\n",
    "\n",
    "# outputs\n",
    "res = []\n",
    "\n",
    "# iterate over number of Grover iterations\n",
    "for r in niters:\n",
    "    \n",
    "    q = qiskit.QuantumRegister(n, name='q')\n",
    "    c = qiskit.ClassicalRegister(n, name='c')\n",
    "    qc = qiskit.QuantumCircuit(q, c, name='qc')\n",
    "    \n",
    "    # initialize\n",
    "    # construct source\n",
    "    init_source_op(qc, q, source)\n",
    "    # construct equal superposition\n",
    "    a_op(qc, q)\n",
    "    \n",
    "    # Grover iterations\n",
    "    for _ in range(r):\n",
    "        grover_op(qc, q, source, target)\n",
    "\n",
    "    # measure\n",
    "    list(map(lambda x: qc.measure(*x), zip(q, c)))\n",
    "\n",
    "    job = qiskit.execute(qc, backend, shots=shots)\n",
    "    counts = job.result().get_counts().get('01010', 0)\n",
    "    res.append(counts)\n",
    "    \n",
    "# plot\n",
    "plt.plot(niters, [c/shots for c in res])\n",
    "plt.xlabel(\"Grover iterations\")\n",
    "plt.ylabel(\"Success probability\")\n",
    "plt.grid('on')"
   ]
  }
 ],
 "metadata": {
  "kernelspec": {
   "display_name": "Python 3",
   "language": "python",
   "name": "python3"
  },
  "language_info": {
   "codemirror_mode": {
    "name": "ipython",
    "version": 3
   },
   "file_extension": ".py",
   "mimetype": "text/x-python",
   "name": "python",
   "nbconvert_exporter": "python",
   "pygments_lexer": "ipython3",
   "version": "3.8.2"
  }
 },
 "nbformat": 4,
 "nbformat_minor": 4
}
