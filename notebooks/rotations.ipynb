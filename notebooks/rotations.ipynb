{
 "cells": [
  {
   "cell_type": "markdown",
   "metadata": {},
   "source": [
    "https://quantumcomputing.stackexchange.com/questions/6236/how-to-quickly-calculate-the-custom-u3-gate-parameters-theta-phi-and-lamb\n",
    "https://quantumcomputing.stackexchange.com/questions/11410/lambda-parameter-for-u3-gate-in-qiskit-bloch-sphere-visualisation\n",
    "https://quantumcomputing.stackexchange.com/questions/7147/why-use-u2-and-u1-gate-in-ibm-quantum-computers"
   ]
  },
  {
   "cell_type": "code",
   "execution_count": 1,
   "metadata": {},
   "outputs": [],
   "source": [
    "import qiskit\n",
    "import numpy as np"
   ]
  },
  {
   "cell_type": "code",
   "execution_count": 2,
   "metadata": {},
   "outputs": [
    {
     "name": "stdout",
     "output_type": "stream",
     "text": [
      "------- U3 rotation -------\n",
      "calculated:\n",
      "[[ 6.123234e-17+0.00000000e+00j  1.000000e+00-1.22464680e-16j]\n",
      " [-1.000000e+00+1.22464680e-16j  6.123234e-17-1.49975978e-32j]]\n",
      "from qiskit:\n",
      "[[ 0.+0.0000000e+00j  1.-1.2246468e-16j]\n",
      " [-1.+1.2246468e-16j  0.+0.0000000e+00j]]\n",
      "------- Ry rotation -------\n",
      "calculated:\n",
      "[[ 6.123234e-17+0.j -1.000000e+00+0.j]\n",
      " [ 1.000000e+00+0.j  6.123234e-17+0.j]]\n",
      "from qiskit:\n",
      "[[ 0.+0.j -1.+0.j]\n",
      " [ 1.+0.j  0.+0.j]]\n"
     ]
    }
   ],
   "source": [
    "# Pauli matricies\n",
    "sigma = {}\n",
    "sigma_x = np.matrix([[0, 1], [1, 0]])\n",
    "sigma_y = np.matrix([[0, -1j], [1j, 0]])\n",
    "sigma_z = np.matrix([[1, 0], [0, -1]])\n",
    "\n",
    "# rotation about an arbitrary axis\n",
    "def rot(theta, nvec):\n",
    "    rot_matrix = nvec[0]*sigma_x + nvec[1]*sigma_y + nvec[2]*sigma_z\n",
    "    return np.cos(theta)*np.identity(2) + 1j*np.sin(theta)*rot_matrix\n",
    "\n",
    "# rotation about x, y, z[]\n",
    "def rx(theta):\n",
    "    return rot(-0.5*theta, [1, 0, 0])\n",
    "\n",
    "def ry(theta):\n",
    "    return rot(-0.5*theta, [0, 1, 0])\n",
    "\n",
    "def rz(theta):\n",
    "    return np.exp(1j*(theta)/2) * rot(-0.5*theta, [0, 0, 1])\n",
    "\n",
    "# U3 rotation\n",
    "def rot_u3(theta, phi, lam):\n",
    "    return rz(phi) * ry(theta) * rz(lam)\n",
    "\n",
    "# get unitary for single qubit gates from qiskit unitary simulator\n",
    "def qiskit_get_unitary(op, *args, **kwargs):\n",
    "    qc = qiskit.QuantumCircuit(1)\n",
    "    getattr(qc, op)(*args, 0, **kwargs)\n",
    "    backend = qiskit.BasicAer.get_backend('unitary_simulator')\n",
    "    job = qiskit.execute(qc, backend)\n",
    "    return job.result().get_unitary()\n",
    "\n",
    "# U3 rotation by qiskit\n",
    "def qiskit_rot_u3(theta, phi, lam):\n",
    "    return qiskit_get_unitary('u3', theta, phi, lam)\n",
    "\n",
    "# rotation about x, y, z by qiskit\n",
    "def qiskit_rx(theta):\n",
    "    return qiskit_get_unitary('rx', theta)\n",
    "\n",
    "def qiskit_ry(theta):\n",
    "    return qiskit_get_unitary('ry', theta)\n",
    "\n",
    "def qiskit_rz(theta):\n",
    "    return qiskit_get_unitary('rz', theta)\n",
    "\n",
    "print(\"------- U3 rotation -------\")\n",
    "print(\"calculated:\")\n",
    "print(rot_u3(np.pi, np.pi, np.pi))\n",
    "print(\"from qiskit:\")\n",
    "print(qiskit_rot_u3(np.pi, np.pi, np.pi))\n",
    "\n",
    "print(\"------- Ry rotation -------\")\n",
    "print(\"calculated:\")\n",
    "print(ry(np.pi))\n",
    "print(\"from qiskit:\")\n",
    "print(qiskit_ry(np.pi))"
   ]
  },
  {
   "cell_type": "code",
   "execution_count": 3,
   "metadata": {},
   "outputs": [
    {
     "name": "stdout",
     "output_type": "stream",
     "text": [
      "rotation matrix:\n",
      "[[ 6.123234e-17+0.00000000e+00j  1.000000e+00-1.22464680e-16j]\n",
      " [-1.000000e+00+1.22464680e-16j  6.123234e-17-1.49975978e-32j]]\n",
      "Euler angles:\n",
      "theta = 3.141592653589793, phi = 3.141592653589793, lambda = -3.141592653589793, phase = -1.2246467991473532e-16\n"
     ]
    }
   ],
   "source": [
    "# rotation matrix to Euler angles (U3)\n",
    "rot_matrix = rot_u3(np.pi, np.pi, np.pi)\n",
    "theta, phi, lam, phase = qiskit.quantum_info.synthesis.OneQubitEulerDecomposer(basis='U3').angles_and_phase(rot_matrix)\n",
    "print(\"rotation matrix:\")\n",
    "print(rot_matrix)\n",
    "print(\"Euler angles:\")\n",
    "print(\"theta = %s, phi = %s, lambda = %s, phase = %s\" % (theta, phi, lam, phase))"
   ]
  },
  {
   "cell_type": "code",
   "execution_count": null,
   "metadata": {},
   "outputs": [],
   "source": []
  }
 ],
 "metadata": {
  "kernelspec": {
   "display_name": "Python 3",
   "language": "python",
   "name": "python3"
  },
  "language_info": {
   "codemirror_mode": {
    "name": "ipython",
    "version": 3
   },
   "file_extension": ".py",
   "mimetype": "text/x-python",
   "name": "python",
   "nbconvert_exporter": "python",
   "pygments_lexer": "ipython3",
   "version": "3.8.2"
  }
 },
 "nbformat": 4,
 "nbformat_minor": 4
}
