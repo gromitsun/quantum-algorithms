{
 "cells": [
  {
   "cell_type": "code",
   "execution_count": 1,
   "metadata": {},
   "outputs": [],
   "source": [
    "import qiskit\n",
    "import numpy as np\n",
    "\n",
    "%matplotlib inline\n",
    "import matplotlib.pyplot as plt"
   ]
  },
  {
   "cell_type": "markdown",
   "metadata": {},
   "source": [
    "# Key operators"
   ]
  },
  {
   "cell_type": "code",
   "execution_count": 2,
   "metadata": {},
   "outputs": [],
   "source": [
    "def init_source_op(qc, q, source):\n",
    "    \"\"\"Construct the source state from all 0's state\"\"\"\n",
    "    for qbit, sbit in zip(q, source):\n",
    "        if sbit:\n",
    "            qc.x(qbit)\n",
    "            \n",
    "def a_op(qc, q, source, inv=False):\n",
    "    \"\"\"Construct all equal superposition from initial (source) state\"\"\"\n",
    "    for qbit, sbit in zip(q, source):\n",
    "        qc.rx((-1)**(inv+sbit)*np.pi/2, qbit)\n",
    "    \n",
    "def mcz_op(qc, controls, target):\n",
    "    \"\"\"Multi-controlled-Z operator\"\"\"\n",
    "    return qc.mcu1(np.pi, controls, target)\n",
    "    \n",
    "def ss_op(qc, q):\n",
    "    \"\"\"Reflection about initial (source) state\"\"\"\n",
    "    # multi-controlled-Z\n",
    "    qc.mcu1(np.pi, q[:-1], q[-1])\n",
    "    \n",
    "def st_op(qc, q, target):\n",
    "    \"\"\"Reflection about target state (t)\"\"\"\n",
    "    # flip qubits corresponding to a zero target bit\n",
    "    for qbit, tbit in zip(q, target):\n",
    "        if not tbit:\n",
    "            qc.x(qbit)\n",
    "    # multi-controlled-Z\n",
    "    qc.mcu1(np.pi, q[:-1], q[-1])\n",
    "    # flip qubits corresponding to a zero target bit\n",
    "    for qbit, tbit in zip(q, target):\n",
    "        if not tbit:\n",
    "            qc.x(qbit)\n",
    "\n",
    "def grover_op(qc, q, source, target):\n",
    "    \"\"\"Operator for one Grover iteration\"\"\"\n",
    "    st_op(qc, q, target)\n",
    "    a_op(qc, q, source, inv=False)\n",
    "    ss_op(qc, q)\n",
    "    a_op(qc, q, source, inv=True)"
   ]
  },
  {
   "cell_type": "markdown",
   "metadata": {},
   "source": [
    "# Construct quantum circuit"
   ]
  },
  {
   "cell_type": "code",
   "execution_count": 3,
   "metadata": {},
   "outputs": [
    {
     "name": "stdout",
     "output_type": "stream",
     "text": [
      "Optimal number of iterations = 4\n",
      "------- operation counts (raw) -------\n",
      "rx: 45\n",
      "x: 24\n",
      "mcu1: 8\n",
      "------- operation counts (decomposed) -------\n",
      "cu1: 120\n",
      "cx: 112\n",
      "r: 45\n",
      "u3: 24\n"
     ]
    }
   ],
   "source": [
    "# inputs\n",
    "n = 5\n",
    "source = [0, 0, 0, 0, 0]\n",
    "target = [0, 1, 0, 1, 0]\n",
    "\n",
    "# optimal iterations\n",
    "niter = int(np.round(np.pi*np.sqrt(2**n)/4))\n",
    "print(\"Optimal number of iterations = %s\" % niter)\n",
    "\n",
    "# quantum circuit\n",
    "q = qiskit.QuantumRegister(n, name='q')\n",
    "c = qiskit.ClassicalRegister(n, name='c')\n",
    "qc = qiskit.QuantumCircuit(q, c, name='qc')\n",
    "\n",
    "# initialize\n",
    "# construct source\n",
    "init_source_op(qc, q, source)\n",
    "# construct equal superposition\n",
    "a_op(qc, q, source)\n",
    "\n",
    "# Grover iterations\n",
    "for _ in range(niter):\n",
    "    grover_op(qc, q, source, target)\n",
    "    \n",
    "# measurement\n",
    "list(map(lambda x: qc.measure(*x), zip(q, c)))\n",
    "\n",
    "print(\"------- operation counts (raw) -------\")\n",
    "for op, count in qc.count_ops().items():\n",
    "    if op == 'measure':\n",
    "        continue\n",
    "    print(\"%s: %d\" % (op, count))\n",
    "    \n",
    "print(\"------- operation counts (decomposed) -------\")\n",
    "for op, count in qc.decompose().count_ops().items():\n",
    "    if op == 'measure':\n",
    "        continue\n",
    "    print(\"%s: %d\" % (op, count))\n",
    "\n",
    "# qc.draw()"
   ]
  },
  {
   "cell_type": "markdown",
   "metadata": {},
   "source": [
    "# Qiskit simulation"
   ]
  },
  {
   "cell_type": "code",
   "execution_count": 4,
   "metadata": {},
   "outputs": [
    {
     "name": "stdout",
     "output_type": "stream",
     "text": [
      "{'01001': 1, '01000': 1, '01010': 4094}\n"
     ]
    },
    {
     "data": {
      "image/png": "[encoded data removed]",
      "text/plain": [
       "<Figure size 504x360 with 1 Axes>"
      ]
     },
     "execution_count": 4,
     "metadata": {},
     "output_type": "execute_result"
    }
   ],
   "source": [
    "# qasm simulator\n",
    "backend = qiskit.BasicAer.get_backend('qasm_simulator')\n",
    "job = qiskit.execute(qc, backend, shots=4096)\n",
    "results = job.result().get_counts()\n",
    "print(results)\n",
    "qiskit.visualization.plot_histogram(results)"
   ]
  },
  {
   "cell_type": "code",
   "execution_count": 5,
   "metadata": {},
   "outputs": [
    {
     "data": {
      "text/plain": [
       "array([ 5.13584637e-03-1.53915659e-16j, -3.51534916e-17-5.13584637e-03j,\n",
       "       -1.12012064e-16-5.13584637e-03j, -5.13584637e-03+7.68592990e-17j,\n",
       "       -1.43224366e-16-5.13584637e-03j, -5.13584637e-03+9.32621257e-17j,\n",
       "       -5.13584637e-03+4.01853993e-17j,  1.95676637e-17+5.13584637e-03j,\n",
       "       -1.53173688e-16-5.13584637e-03j, -5.13584637e-03+2.10316187e-16j,\n",
       "        9.99591074e-01+9.64017034e-16j,  7.91718452e-17+5.13584637e-03j,\n",
       "       -5.13584637e-03+8.63820074e-17j,  5.58442365e-17+5.13584637e-03j,\n",
       "       -8.74379556e-19+5.13584637e-03j,  5.13584637e-03-4.02021693e-17j,\n",
       "       -7.59352019e-17-5.13584637e-03j, -5.13584637e-03+1.92622271e-18j,\n",
       "       -5.13584637e-03-1.64028298e-18j,  3.67650886e-17+5.13584637e-03j,\n",
       "       -5.13584637e-03+1.23055688e-16j,  1.08399478e-16+5.13584637e-03j,\n",
       "        4.05004931e-18+5.13584637e-03j,  5.13584637e-03-3.22572001e-17j,\n",
       "       -5.13584637e-03+9.09886416e-17j,  9.02246552e-17+5.13584637e-03j,\n",
       "       -3.11999360e-17+5.13584637e-03j,  5.13584637e-03-3.22751995e-18j,\n",
       "        1.53226673e-16+5.13584637e-03j,  5.13584637e-03-4.39023634e-17j,\n",
       "        5.13584637e-03-2.23858253e-19j,  2.26380941e-17-5.13584637e-03j])"
      ]
     },
     "execution_count": 5,
     "metadata": {},
     "output_type": "execute_result"
    }
   ],
   "source": [
    "# state vector simulator\n",
    "backend = qiskit.BasicAer.get_backend('statevector_simulator')\n",
    "qc.remove_final_measurements()\n",
    "job = qiskit.execute(qc, backend)\n",
    "job.result().get_statevector()"
   ]
  },
  {
   "cell_type": "code",
   "execution_count": 6,
   "metadata": {},
   "outputs": [
    {
     "data": {
      "text/plain": [
       "array([[ 5.13584637e-03-1.53915659e-16j, -3.01124045e-16+1.50234296e-01j,\n",
       "        -9.38858734e-17+2.03319095e-01j, ...,\n",
       "        -2.03319095e-01-2.20031636e-16j, -1.50234296e-01-1.01330794e-16j,\n",
       "        -1.59464702e-16+1.50234296e-01j],\n",
       "       [-3.51534916e-17-5.13584637e-03j, -2.03319095e-01-2.74702566e-16j,\n",
       "         2.03319095e-01+2.79210394e-16j, ...,\n",
       "         1.56162385e-16-1.50234296e-01j, -2.38223755e-16+1.50234296e-01j,\n",
       "        -2.03319095e-01-7.09335638e-17j],\n",
       "       [-1.12012064e-16-5.13584637e-03j,  1.50234296e-01+2.20359841e-16j,\n",
       "        -1.50234296e-01-1.43755015e-16j, ...,\n",
       "        -1.25441820e-16+2.03319095e-01j,  9.71423689e-17-2.03319095e-01j,\n",
       "        -2.03319095e-01-9.29155936e-17j],\n",
       "       ...,\n",
       "       [ 5.13584637e-03-4.39023634e-17j,  1.81760198e-16-2.03319095e-01j,\n",
       "        -1.57836891e-16+2.03319095e-01j, ...,\n",
       "        -2.03319095e-01+1.35299737e-16j,  2.03319095e-01-1.74957494e-16j,\n",
       "         2.11395454e-16+1.50234296e-01j],\n",
       "       [ 5.13584637e-03-2.23858253e-19j, -1.62347349e-16+1.50234296e-01j,\n",
       "         1.30640326e-16-1.50234296e-01j, ...,\n",
       "         1.50234296e-01-1.29847260e-16j, -1.50234296e-01+2.65564124e-16j,\n",
       "         2.57035691e-16+1.50234296e-01j],\n",
       "       [ 2.26380941e-17-5.13584637e-03j, -2.03319095e-01-1.05193451e-16j,\n",
       "        -1.50234296e-01-1.51320871e-16j, ...,\n",
       "         2.15927224e-16+2.03319095e-01j,  2.30115538e-16+1.50234296e-01j,\n",
       "        -2.03319095e-01+3.37299786e-16j]])"
      ]
     },
     "execution_count": 6,
     "metadata": {},
     "output_type": "execute_result"
    }
   ],
   "source": [
    "backend = qiskit.BasicAer.get_backend('unitary_simulator')\n",
    "qc.remove_final_measurements()\n",
    "job = qiskit.execute(qc, backend)\n",
    "job.result().get_unitary()"
   ]
  },
  {
   "cell_type": "markdown",
   "metadata": {},
   "source": [
    "# Analysis"
   ]
  },
  {
   "cell_type": "code",
   "execution_count": 7,
   "metadata": {},
   "outputs": [
    {
     "data": {
      "image/png": "[encoded data removed]",
      "text/plain": [
       "<Figure size 432x288 with 1 Axes>"
      ]
     },
     "metadata": {
      "needs_background": "light"
     },
     "output_type": "display_data"
    }
   ],
   "source": [
    "# success rate vs number of iterations\n",
    "\n",
    "# inputs\n",
    "n = 5\n",
    "source = [0, 0, 0, 0, 0]\n",
    "target = [0, 1, 0, 1, 0]\n",
    "\n",
    "# simulation parameters\n",
    "backend = qiskit.BasicAer.get_backend('qasm_simulator')\n",
    "shots = 4096\n",
    "niters = list(range(9))\n",
    "\n",
    "# outputs\n",
    "res = []\n",
    "\n",
    "# iterate over number of Grover iterations\n",
    "for r in niters:\n",
    "    \n",
    "    q = qiskit.QuantumRegister(n, name='q')\n",
    "    c = qiskit.ClassicalRegister(n, name='c')\n",
    "    qc = qiskit.QuantumCircuit(q, c, name='qc')\n",
    "    \n",
    "    # initialize\n",
    "    # construct source\n",
    "    init_source_op(qc, q, source)\n",
    "    # construct equal superposition\n",
    "    a_op(qc, q, source)\n",
    "    \n",
    "    # Grover iterations\n",
    "    for _ in range(r):\n",
    "        grover_op(qc, q, source, target)\n",
    "\n",
    "    # measure\n",
    "    list(map(lambda x: qc.measure(*x), zip(q, c)))\n",
    "\n",
    "    job = qiskit.execute(qc, backend, shots=shots)\n",
    "    counts = job.result().get_counts().get('01010', 0)\n",
    "    res.append(counts)\n",
    "    \n",
    "# plot\n",
    "plt.plot(niters, [c/shots for c in res])\n",
    "plt.xlabel(\"Grover iterations\")\n",
    "plt.ylabel(\"Success probability\")\n",
    "plt.grid('on')"
   ]
  },
  {
   "cell_type": "code",
   "execution_count": null,
   "metadata": {},
   "outputs": [],
   "source": []
  }
 ],
 "metadata": {
  "kernelspec": {
   "display_name": "Python 3",
   "language": "python",
   "name": "python3"
  },
  "language_info": {
   "codemirror_mode": {
    "name": "ipython",
    "version": 3
   },
   "file_extension": ".py",
   "mimetype": "text/x-python",
   "name": "python",
   "nbconvert_exporter": "python",
   "pygments_lexer": "ipython3",
   "version": "3.8.2"
  }
 },
 "nbformat": 4,
 "nbformat_minor": 4
}
