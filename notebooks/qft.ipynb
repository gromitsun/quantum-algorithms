{
 "cells": [
  {
   "cell_type": "code",
   "execution_count": 1,
   "metadata": {},
   "outputs": [
    {
     "output_type": "error",
     "ename": "ModuleNotFoundError",
     "evalue": "No module named 'matplotlib'",
     "traceback": [
      "\u001b[0;31m---------------------------------------------------------------------------\u001b[0m",
      "\u001b[0;31mModuleNotFoundError\u001b[0m                       Traceback (most recent call last)",
      "\u001b[0;32m<ipython-input-1-a10d1ffca11c>\u001b[0m in \u001b[0;36m<module>\u001b[0;34m\u001b[0m\n\u001b[1;32m      2\u001b[0m \u001b[0;32mimport\u001b[0m \u001b[0mnumpy\u001b[0m \u001b[0;32mas\u001b[0m \u001b[0mnp\u001b[0m\u001b[0;34m\u001b[0m\u001b[0;34m\u001b[0m\u001b[0m\n\u001b[1;32m      3\u001b[0m \u001b[0;34m\u001b[0m\u001b[0m\n\u001b[0;32m----> 4\u001b[0;31m \u001b[0mget_ipython\u001b[0m\u001b[0;34m(\u001b[0m\u001b[0;34m)\u001b[0m\u001b[0;34m.\u001b[0m\u001b[0mrun_line_magic\u001b[0m\u001b[0;34m(\u001b[0m\u001b[0;34m'matplotlib'\u001b[0m\u001b[0;34m,\u001b[0m \u001b[0;34m'inline'\u001b[0m\u001b[0;34m)\u001b[0m\u001b[0;34m\u001b[0m\u001b[0;34m\u001b[0m\u001b[0m\n\u001b[0m\u001b[1;32m      5\u001b[0m \u001b[0;32mimport\u001b[0m \u001b[0mmatplotlib\u001b[0m\u001b[0;34m.\u001b[0m\u001b[0mpyplot\u001b[0m \u001b[0;32mas\u001b[0m \u001b[0mplt\u001b[0m\u001b[0;34m\u001b[0m\u001b[0;34m\u001b[0m\u001b[0m\n",
      "\u001b[0;32m~/.local/lib/python3.8/site-packages/IPython/core/interactiveshell.py\u001b[0m in \u001b[0;36mrun_line_magic\u001b[0;34m(self, magic_name, line, _stack_depth)\u001b[0m\n\u001b[1;32m   2324\u001b[0m                 \u001b[0mkwargs\u001b[0m\u001b[0;34m[\u001b[0m\u001b[0;34m'local_ns'\u001b[0m\u001b[0;34m]\u001b[0m \u001b[0;34m=\u001b[0m \u001b[0mself\u001b[0m\u001b[0;34m.\u001b[0m\u001b[0mget_local_scope\u001b[0m\u001b[0;34m(\u001b[0m\u001b[0mstack_depth\u001b[0m\u001b[0;34m)\u001b[0m\u001b[0;34m\u001b[0m\u001b[0;34m\u001b[0m\u001b[0m\n\u001b[1;32m   2325\u001b[0m             \u001b[0;32mwith\u001b[0m \u001b[0mself\u001b[0m\u001b[0;34m.\u001b[0m\u001b[0mbuiltin_trap\u001b[0m\u001b[0;34m:\u001b[0m\u001b[0;34m\u001b[0m\u001b[0;34m\u001b[0m\u001b[0m\n\u001b[0;32m-> 2326\u001b[0;31m                 \u001b[0mresult\u001b[0m \u001b[0;34m=\u001b[0m \u001b[0mfn\u001b[0m\u001b[0;34m(\u001b[0m\u001b[0;34m*\u001b[0m\u001b[0margs\u001b[0m\u001b[0;34m,\u001b[0m \u001b[0;34m**\u001b[0m\u001b[0mkwargs\u001b[0m\u001b[0;34m)\u001b[0m\u001b[0;34m\u001b[0m\u001b[0;34m\u001b[0m\u001b[0m\n\u001b[0m\u001b[1;32m   2327\u001b[0m             \u001b[0;32mreturn\u001b[0m \u001b[0mresult\u001b[0m\u001b[0;34m\u001b[0m\u001b[0;34m\u001b[0m\u001b[0m\n\u001b[1;32m   2328\u001b[0m \u001b[0;34m\u001b[0m\u001b[0m\n",
      "\u001b[0;32m<decorator-gen-108>\u001b[0m in \u001b[0;36mmatplotlib\u001b[0;34m(self, line)\u001b[0m\n",
      "\u001b[0;32m~/.local/lib/python3.8/site-packages/IPython/core/magic.py\u001b[0m in \u001b[0;36m<lambda>\u001b[0;34m(f, *a, **k)\u001b[0m\n\u001b[1;32m    185\u001b[0m     \u001b[0;31m# but it's overkill for just that one bit of state.\u001b[0m\u001b[0;34m\u001b[0m\u001b[0;34m\u001b[0m\u001b[0;34m\u001b[0m\u001b[0m\n\u001b[1;32m    186\u001b[0m     \u001b[0;32mdef\u001b[0m \u001b[0mmagic_deco\u001b[0m\u001b[0;34m(\u001b[0m\u001b[0marg\u001b[0m\u001b[0;34m)\u001b[0m\u001b[0;34m:\u001b[0m\u001b[0;34m\u001b[0m\u001b[0;34m\u001b[0m\u001b[0m\n\u001b[0;32m--> 187\u001b[0;31m         \u001b[0mcall\u001b[0m \u001b[0;34m=\u001b[0m \u001b[0;32mlambda\u001b[0m \u001b[0mf\u001b[0m\u001b[0;34m,\u001b[0m \u001b[0;34m*\u001b[0m\u001b[0ma\u001b[0m\u001b[0;34m,\u001b[0m \u001b[0;34m**\u001b[0m\u001b[0mk\u001b[0m\u001b[0;34m:\u001b[0m \u001b[0mf\u001b[0m\u001b[0;34m(\u001b[0m\u001b[0;34m*\u001b[0m\u001b[0ma\u001b[0m\u001b[0;34m,\u001b[0m \u001b[0;34m**\u001b[0m\u001b[0mk\u001b[0m\u001b[0;34m)\u001b[0m\u001b[0;34m\u001b[0m\u001b[0;34m\u001b[0m\u001b[0m\n\u001b[0m\u001b[1;32m    188\u001b[0m \u001b[0;34m\u001b[0m\u001b[0m\n\u001b[1;32m    189\u001b[0m         \u001b[0;32mif\u001b[0m \u001b[0mcallable\u001b[0m\u001b[0;34m(\u001b[0m\u001b[0marg\u001b[0m\u001b[0;34m)\u001b[0m\u001b[0;34m:\u001b[0m\u001b[0;34m\u001b[0m\u001b[0;34m\u001b[0m\u001b[0m\n",
      "\u001b[0;32m~/.local/lib/python3.8/site-packages/IPython/core/magics/pylab.py\u001b[0m in \u001b[0;36mmatplotlib\u001b[0;34m(self, line)\u001b[0m\n\u001b[1;32m     97\u001b[0m             \u001b[0mprint\u001b[0m\u001b[0;34m(\u001b[0m\u001b[0;34m\"Available matplotlib backends: %s\"\u001b[0m \u001b[0;34m%\u001b[0m \u001b[0mbackends_list\u001b[0m\u001b[0;34m)\u001b[0m\u001b[0;34m\u001b[0m\u001b[0;34m\u001b[0m\u001b[0m\n\u001b[1;32m     98\u001b[0m         \u001b[0;32melse\u001b[0m\u001b[0;34m:\u001b[0m\u001b[0;34m\u001b[0m\u001b[0;34m\u001b[0m\u001b[0m\n\u001b[0;32m---> 99\u001b[0;31m             \u001b[0mgui\u001b[0m\u001b[0;34m,\u001b[0m \u001b[0mbackend\u001b[0m \u001b[0;34m=\u001b[0m \u001b[0mself\u001b[0m\u001b[0;34m.\u001b[0m\u001b[0mshell\u001b[0m\u001b[0;34m.\u001b[0m\u001b[0menable_matplotlib\u001b[0m\u001b[0;34m(\u001b[0m\u001b[0margs\u001b[0m\u001b[0;34m.\u001b[0m\u001b[0mgui\u001b[0m\u001b[0;34m.\u001b[0m\u001b[0mlower\u001b[0m\u001b[0;34m(\u001b[0m\u001b[0;34m)\u001b[0m \u001b[0;32mif\u001b[0m \u001b[0misinstance\u001b[0m\u001b[0;34m(\u001b[0m\u001b[0margs\u001b[0m\u001b[0;34m.\u001b[0m\u001b[0mgui\u001b[0m\u001b[0;34m,\u001b[0m \u001b[0mstr\u001b[0m\u001b[0;34m)\u001b[0m \u001b[0;32melse\u001b[0m \u001b[0margs\u001b[0m\u001b[0;34m.\u001b[0m\u001b[0mgui\u001b[0m\u001b[0;34m)\u001b[0m\u001b[0;34m\u001b[0m\u001b[0;34m\u001b[0m\u001b[0m\n\u001b[0m\u001b[1;32m    100\u001b[0m             \u001b[0mself\u001b[0m\u001b[0;34m.\u001b[0m\u001b[0m_show_matplotlib_backend\u001b[0m\u001b[0;34m(\u001b[0m\u001b[0margs\u001b[0m\u001b[0;34m.\u001b[0m\u001b[0mgui\u001b[0m\u001b[0;34m,\u001b[0m \u001b[0mbackend\u001b[0m\u001b[0;34m)\u001b[0m\u001b[0;34m\u001b[0m\u001b[0;34m\u001b[0m\u001b[0m\n\u001b[1;32m    101\u001b[0m \u001b[0;34m\u001b[0m\u001b[0m\n",
      "\u001b[0;32m~/.local/lib/python3.8/site-packages/IPython/core/interactiveshell.py\u001b[0m in \u001b[0;36menable_matplotlib\u001b[0;34m(self, gui)\u001b[0m\n\u001b[1;32m   3491\u001b[0m         \"\"\"\n\u001b[1;32m   3492\u001b[0m         \u001b[0;32mfrom\u001b[0m \u001b[0mIPython\u001b[0m\u001b[0;34m.\u001b[0m\u001b[0mcore\u001b[0m \u001b[0;32mimport\u001b[0m \u001b[0mpylabtools\u001b[0m \u001b[0;32mas\u001b[0m \u001b[0mpt\u001b[0m\u001b[0;34m\u001b[0m\u001b[0;34m\u001b[0m\u001b[0m\n\u001b[0;32m-> 3493\u001b[0;31m         \u001b[0mgui\u001b[0m\u001b[0;34m,\u001b[0m \u001b[0mbackend\u001b[0m \u001b[0;34m=\u001b[0m \u001b[0mpt\u001b[0m\u001b[0;34m.\u001b[0m\u001b[0mfind_gui_and_backend\u001b[0m\u001b[0;34m(\u001b[0m\u001b[0mgui\u001b[0m\u001b[0;34m,\u001b[0m \u001b[0mself\u001b[0m\u001b[0;34m.\u001b[0m\u001b[0mpylab_gui_select\u001b[0m\u001b[0;34m)\u001b[0m\u001b[0;34m\u001b[0m\u001b[0;34m\u001b[0m\u001b[0m\n\u001b[0m\u001b[1;32m   3494\u001b[0m \u001b[0;34m\u001b[0m\u001b[0m\n\u001b[1;32m   3495\u001b[0m         \u001b[0;32mif\u001b[0m \u001b[0mgui\u001b[0m \u001b[0;34m!=\u001b[0m \u001b[0;34m'inline'\u001b[0m\u001b[0;34m:\u001b[0m\u001b[0;34m\u001b[0m\u001b[0;34m\u001b[0m\u001b[0m\n",
      "\u001b[0;32m~/.local/lib/python3.8/site-packages/IPython/core/pylabtools.py\u001b[0m in \u001b[0;36mfind_gui_and_backend\u001b[0;34m(gui, gui_select)\u001b[0m\n\u001b[1;32m    278\u001b[0m     \"\"\"\n\u001b[1;32m    279\u001b[0m \u001b[0;34m\u001b[0m\u001b[0m\n\u001b[0;32m--> 280\u001b[0;31m     \u001b[0;32mimport\u001b[0m \u001b[0mmatplotlib\u001b[0m\u001b[0;34m\u001b[0m\u001b[0;34m\u001b[0m\u001b[0m\n\u001b[0m\u001b[1;32m    281\u001b[0m \u001b[0;34m\u001b[0m\u001b[0m\n\u001b[1;32m    282\u001b[0m     \u001b[0;32mif\u001b[0m \u001b[0mgui\u001b[0m \u001b[0;32mand\u001b[0m \u001b[0mgui\u001b[0m \u001b[0;34m!=\u001b[0m \u001b[0;34m'auto'\u001b[0m\u001b[0;34m:\u001b[0m\u001b[0;34m\u001b[0m\u001b[0;34m\u001b[0m\u001b[0m\n",
      "\u001b[0;31mModuleNotFoundError\u001b[0m: No module named 'matplotlib'"
     ]
    }
   ],
   "source": [
    "import qiskit\n",
    "import numpy as np\n",
    "\n",
    "%matplotlib inline\n",
    "import matplotlib.pyplot as plt"
   ]
  },
  {
   "cell_type": "markdown",
   "metadata": {},
   "source": [
    "# Main functions"
   ]
  },
  {
   "cell_type": "code",
   "execution_count": 2,
   "metadata": {},
   "outputs": [],
   "source": [
    "def swap_qubits(qc, qreg):\n",
    "    \"\"\"\n",
    "    Reverse the order of qubits\n",
    "    Note: qiskit qubit order is most significant last (i.e. q[n-1])\n",
    "    \"\"\"\n",
    "    for i in range(len(qreg)//2):\n",
    "        qc.swap(qreg[i], qreg[-i-1])\n",
    "\n",
    "def qft(qc, qreg, do_swaps=False, inverse=False):\n",
    "    \"\"\"Circuit for QFT. Assumes most significant bit last.\"\"\"\n",
    "    \n",
    "    if inverse:\n",
    "        sign = -1\n",
    "    else:\n",
    "        qreg = qreg[::-1]\n",
    "        sign = 1\n",
    "        \n",
    "    # swap qubits -- inverse QFT\n",
    "    if do_swaps and inverse:\n",
    "        swap_qubits(qc, qreg)\n",
    "    \n",
    "    # do QFT\n",
    "    for i, target in enumerate(qreg):\n",
    "        qc.h(target)\n",
    "        for k, control in enumerate(qreg[i+1:]):\n",
    "            qc.cu1(sign*np.pi/2**(k+1), control, target)\n",
    "            \n",
    "    # swap qubits -- forward QFT\n",
    "    if do_swaps and not inverse:\n",
    "        swap_qubits(qc, qreg)\n",
    "\n",
    "def qiskit_qft(qc, qreg, do_swaps=False, inverse=False):\n",
    "    \"\"\"Qiskit circuit library for QFT\"\"\"\n",
    "    # Qiskit uses most significant bit last convention\n",
    "    # However, the QFT in the circuit library uses most significant bit first\n",
    "    # therefore we need to swap the qubits\n",
    "    inst = qiskit.circuit.library.QFT(num_qubits=len(qreg), do_swaps=do_swaps, inverse=inverse)\n",
    "    qc.append(inst, qreg[::-1])\n"
   ]
  },
  {
   "cell_type": "markdown",
   "metadata": {},
   "source": [
    "# Circuit"
   ]
  },
  {
   "cell_type": "code",
   "execution_count": 3,
   "metadata": {},
   "outputs": [
    {
     "output_type": "execute_result",
     "data": {
      "text/plain": "                                                                             »\nq_0: ───────────────────────────────────────■───────────────────■────────────»\n                                            │                   │            »\nq_1: ─────────────────────────■─────────────┼───────■───────────┼──────■─────»\n                              │             │       │     ┌───┐ │      │pi/2 »\nq_2: ─────────────■───────────┼──────■──────┼───────┼─────┤ H ├─┼──────■─────»\n                  │     ┌───┐ │      │pi/2  │       │pi/4 └───┘ │pi/8        »\nq_3: ──────■──────┼─────┤ H ├─┼──────■──────┼───────■───────────■────────────»\n     ┌───┐ │pi/2  │pi/4 └───┘ │pi/8         │pi/16                           »\nq_4: ┤ H ├─■──────■───────────■─────────────■────────────────────────────────»\n     └───┘                                                                   »\n«                        ┌───┐\n«q_0: ─■───────────■─────┤ H ├\n«      │     ┌───┐ │pi/2 └───┘\n«q_1: ─┼─────┤ H ├─■──────────\n«      │pi/4 └───┘            \n«q_2: ─■──────────────────────\n«                             \n«q_3: ────────────────────────\n«                             \n«q_4: ────────────────────────\n«                             ",
      "text/html": "<pre style=\"word-wrap: normal;white-space: pre;background: #fff0;line-height: 1.1;font-family: &quot;Courier New&quot;,Courier,monospace\">                                                                             »\nq_0: ───────────────────────────────────────■───────────────────■────────────»\n                                            │                   │            »\nq_1: ─────────────────────────■─────────────┼───────■───────────┼──────■─────»\n                              │             │       │     ┌───┐ │      │pi/2 »\nq_2: ─────────────■───────────┼──────■──────┼───────┼─────┤ H ├─┼──────■─────»\n                  │     ┌───┐ │      │pi/2  │       │pi/4 └───┘ │pi/8        »\nq_3: ──────■──────┼─────┤ H ├─┼──────■──────┼───────■───────────■────────────»\n     ┌───┐ │pi/2  │pi/4 └───┘ │pi/8         │pi/16                           »\nq_4: ┤ H ├─■──────■───────────■─────────────■────────────────────────────────»\n     └───┘                                                                   »\n«                        ┌───┐\n«q_0: ─■───────────■─────┤ H ├\n«      │     ┌───┐ │pi/2 └───┘\n«q_1: ─┼─────┤ H ├─■──────────\n«      │pi/4 └───┘            \n«q_2: ─■──────────────────────\n«                             \n«q_3: ────────────────────────\n«                             \n«q_4: ────────────────────────\n«                             </pre>"
     },
     "metadata": {},
     "execution_count": 3
    }
   ],
   "source": [
    "# inputs\n",
    "n = 5\n",
    "\n",
    "# quantum circuit\n",
    "q = qiskit.QuantumRegister(n, name='q')\n",
    "qc = qiskit.QuantumCircuit(q, name='qc')\n",
    "\n",
    "qft(qc, q, inverse=False)\n",
    "\n",
    "qc.draw()\n",
    "# print(qc.qasm())"
   ]
  },
  {
   "cell_type": "code",
   "execution_count": 4,
   "metadata": {},
   "outputs": [
    {
     "output_type": "execute_result",
     "data": {
      "text/plain": "                                                                             »\nq_0: ───────────────────────────────────────────────────■──────────────■─────»\n                                                        │              │     »\nq_1: ────────────────────────────────■───────────■──────┼───────■──────┼─────»\n                                     │     ┌───┐ │      │       │pi/2  │     »\nq_2: ──────────────────■──────■──────┼─────┤ H ├─┼──────┼───────■──────┼─────»\n                 ┌───┐ │      │pi/2  │     └───┘ │pi/4  │              │pi/8 »\nq_3: ──────■─────┤ H ├─┼──────■──────┼───────────■──────┼──────────────■─────»\n     ┌───┐ │pi/2 └───┘ │pi/4         │pi/8              │pi/16               »\nq_4: ┤ H ├─■───────────■─────────────■──────────────────■────────────────────»\n     └───┘                                                                   »\n«                        ┌───┐\n«q_0: ──────■──────■─────┤ H ├\n«     ┌───┐ │      │pi/2 └───┘\n«q_1: ┤ H ├─┼──────■──────────\n«     └───┘ │pi/4             \n«q_2: ──────■─────────────────\n«                             \n«q_3: ────────────────────────\n«                             \n«q_4: ────────────────────────\n«                             ",
      "text/html": "<pre style=\"word-wrap: normal;white-space: pre;background: #fff0;line-height: 1.1;font-family: &quot;Courier New&quot;,Courier,monospace\">                                                                             »\nq_0: ───────────────────────────────────────────────────■──────────────■─────»\n                                                        │              │     »\nq_1: ────────────────────────────────■───────────■──────┼───────■──────┼─────»\n                                     │     ┌───┐ │      │       │pi/2  │     »\nq_2: ──────────────────■──────■──────┼─────┤ H ├─┼──────┼───────■──────┼─────»\n                 ┌───┐ │      │pi/2  │     └───┘ │pi/4  │              │pi/8 »\nq_3: ──────■─────┤ H ├─┼──────■──────┼───────────■──────┼──────────────■─────»\n     ┌───┐ │pi/2 └───┘ │pi/4         │pi/8              │pi/16               »\nq_4: ┤ H ├─■───────────■─────────────■──────────────────■────────────────────»\n     └───┘                                                                   »\n«                        ┌───┐\n«q_0: ──────■──────■─────┤ H ├\n«     ┌───┐ │      │pi/2 └───┘\n«q_1: ┤ H ├─┼──────■──────────\n«     └───┘ │pi/4             \n«q_2: ──────■─────────────────\n«                             \n«q_3: ────────────────────────\n«                             \n«q_4: ────────────────────────\n«                             </pre>"
     },
     "metadata": {},
     "execution_count": 4
    }
   ],
   "source": [
    "# inputs\n",
    "n = 5\n",
    "\n",
    "# quantum circuit\n",
    "q = qiskit.QuantumRegister(n, name='q')\n",
    "qc = qiskit.QuantumCircuit(q, name='qc')\n",
    "\n",
    "qiskit_qft(qc, q, inverse=False)\n",
    "\n",
    "qc.decompose().draw()"
   ]
  },
  {
   "cell_type": "markdown",
   "metadata": {},
   "source": [
    "# Compare with FFT"
   ]
  },
  {
   "cell_type": "markdown",
   "metadata": {},
   "source": [
    "## Functions"
   ]
  },
  {
   "cell_type": "code",
   "execution_count": 5,
   "metadata": {},
   "outputs": [],
   "source": [
    "# Qiskit simulator\n",
    "def qiskit_get_statevector(circuit):\n",
    "    backend = qiskit.Aer.get_backend('statevector_simulator')\n",
    "    job = qiskit.execute(circuit, backend)\n",
    "    return job.result().get_statevector()\n",
    "\n",
    "# QFT reorder\n",
    "def get_basis_states(n_qubits):\n",
    "    return ['{{:0{:d}b}}'.format(n_qubits).format(x) for x in range(2**n_qubits)]\n",
    "\n",
    "def qft_get_reorder_idx(n_qubits):\n",
    "    \"\"\"Get indices for reordering QFT basis states\"\"\"\n",
    "    return [int(state[::-1], 2) for state in get_basis_states(n_qubits)]\n",
    "\n",
    "def qft_get_reorder_states(n_qubits):\n",
    "    \"\"\"Get reordered basis states in QFT outputs\"\"\"\n",
    "    basis_states = get_basis_states(n_qubits)\n",
    "    return [basis_states[int(state[::-1], 2)] for state in basis_states]\n",
    "\n",
    "def reorder_qft(a, axis=0):\n",
    "    \"\"\"Reorder QFT outputs by reversing qubits\"\"\"\n",
    "    n_qubits = int(np.round(np.log2(len(a))))\n",
    "    return np.asarray(a).take(qft_get_reorder_idx(n_qubits), axis=axis)\n",
    "\n",
    "# Do FFT\n",
    "def fft_by_qft(x, inverse=False, use_classical_swaps=False):\n",
    "    # QFT = inverse classical DFT\n",
    "    inverse = not inverse\n",
    "    # number of qubits\n",
    "    n = int(np.log2(len(x)))\n",
    "    assert len(x) == 2**n\n",
    "    # construct circuit\n",
    "    qreg = qiskit.QuantumRegister(n)\n",
    "    qc = qiskit.QuantumCircuit(qreg)\n",
    "    # initialize circuit with input state vector\n",
    "    qc.initialize(x, qreg)\n",
    "    # reverse qubit order classically -- inverse QFT\n",
    "    if use_classical_swaps and inverse:\n",
    "        qreg = qreg[::-1]\n",
    "    # apply QFT\n",
    "    qft(qc, qreg, do_swaps=not use_classical_swaps, inverse=inverse)\n",
    "    # execute circuit\n",
    "    result = qiskit_get_statevector(qc)\n",
    "    # reverse qubit order classically -- forward QFT\n",
    "    if use_classical_swaps:\n",
    "        result = reorder_qft(result)\n",
    "    return result\n",
    "\n",
    "def direct_dft(x, inverse=False):\n",
    "    n = len(x)\n",
    "    sign = 1 if inverse else -1\n",
    "    gen = (sum(x[i]*np.exp(sign*2j*np.pi*k*i/n)/np.sqrt(n) for i in range(n)) for k in range(n))\n",
    "    return np.fromiter(gen, np.complex, count=n)\n",
    "\n",
    "# Normalization\n",
    "def normalize(x):\n",
    "    x = np.asarray(x)\n",
    "    return x / np.linalg.norm(x)\n"
   ]
  },
  {
   "cell_type": "markdown",
   "metadata": {},
   "source": [
    "## Circuit"
   ]
  },
  {
   "cell_type": "code",
   "execution_count": 6,
   "metadata": {
    "tags": []
   },
   "outputs": [
    {
     "output_type": "stream",
     "name": "stdout",
     "text": "Input: [ 0.28867513+0.j          0.57735027-0.28867513j -0.        -0.28867513j\n -0.28867513+0.57735027j]\n------- Forwrad FFT -------\n[ 2.88675135e-01+0.j         -2.88675135e-01-0.28867513j\n  1.38777878e-16-0.28867513j  5.77350269e-01+0.57735027j]\n[ 0.28867513+0.j         -0.28867513-0.28867513j  0.        -0.28867513j\n  0.57735027+0.57735027j]\n[ 2.88675135e-01-8.32667268e-17j -2.88675135e-01-2.88675135e-01j\n -1.00942981e-16-2.88675135e-01j  5.77350269e-01+5.77350269e-01j]\n[ 2.88675135e-01-8.32667268e-17j -2.88675135e-01-2.88675135e-01j\n -1.00942981e-16-2.88675135e-01j  5.77350269e-01+5.77350269e-01j]\nTrue\nTrue\nTrue\n------- Inverse FFT -------\n[ 2.88675135e-01+1.11022302e-16j  5.77350269e-01-2.88675135e-01j\n  5.55111512e-17-2.88675135e-01j -2.88675135e-01+5.77350269e-01j]\nTrue\n[ 2.88675135e-01-2.77555756e-17j  5.77350269e-01-2.88675135e-01j\n  2.77555756e-17-2.88675135e-01j -2.88675135e-01+5.77350269e-01j]\nTrue\n[ 2.88675135e-01-2.77555756e-17j  5.77350269e-01-2.88675135e-01j\n -7.31874052e-17-2.88675135e-01j -2.88675135e-01+5.77350269e-01j]\nTrue\n[ 2.88675135e-01-2.77555756e-17j  5.77350269e-01-2.88675135e-01j\n -7.31874052e-17-2.88675135e-01j -2.88675135e-01+5.77350269e-01j]\nTrue\n"
    }
   ],
   "source": [
    "# x = [1, 2, 3, 4]\n",
    "x = [1, 2-1j, -1j, -1+2j]\n",
    "x = normalize(x)\n",
    "\n",
    "print(\"Input: %s\" % x)\n",
    "\n",
    "print(\"------- Forwrad FFT -------\")\n",
    "dft = direct_dft(x)\n",
    "np_fft = np.fft.fft(x)\n",
    "qft_fft = fft_by_qft(x)\n",
    "qft_fft_c = fft_by_qft(x, use_classical_swaps=True)\n",
    "\n",
    "np_fft = np_fft / np.sqrt(len(x))\n",
    "\n",
    "print(dft)\n",
    "print(np_fft)\n",
    "print(qft_fft)\n",
    "print(qft_fft_c)\n",
    "print(np.allclose(np_fft, dft))\n",
    "print(np.allclose(qft_fft, dft))\n",
    "print(np.allclose(qft_fft_c, dft))\n",
    "\n",
    "print(\"------- Inverse FFT -------\")\n",
    "idft = direct_dft(dft, inverse=True)\n",
    "np_ifft = np.fft.ifft(np_fft)\n",
    "qft_ifft = fft_by_qft(qft_fft, inverse=True)\n",
    "qft_ifft_c = fft_by_qft(qft_fft_c, inverse=True, use_classical_swaps=True)\n",
    "\n",
    "np_ifft = np_ifft * np.sqrt(len(np_fft))\n",
    "\n",
    "print(idft)\n",
    "print(np.allclose(idft, x))\n",
    "\n",
    "print(np_ifft)\n",
    "print(np.allclose(np_ifft, x))\n",
    "\n",
    "print(qft_ifft)\n",
    "print(np.allclose(qft_ifft, x))\n",
    "\n",
    "print(qft_ifft_c)\n",
    "print(np.allclose(qft_ifft_c, x))"
   ]
  },
  {
   "cell_type": "markdown",
   "metadata": {},
   "source": [
    "# QFT unitary matrix"
   ]
  },
  {
   "cell_type": "code",
   "execution_count": 7,
   "metadata": {},
   "outputs": [],
   "source": [
    "def qiskit_get_unitary(circuit):\n",
    "    backend = qiskit.BasicAer.get_backend('unitary_simulator')\n",
    "    job = qiskit.execute(circuit, backend)\n",
    "    return job.result().get_unitary()\n"
   ]
  },
  {
   "cell_type": "markdown",
   "metadata": {},
   "source": [
    "## Using swaps on circuit"
   ]
  },
  {
   "cell_type": "code",
   "execution_count": 8,
   "metadata": {
    "tags": []
   },
   "outputs": [
    {
     "output_type": "stream",
     "name": "stdout",
     "text": "True\nTrue\n"
    }
   ],
   "source": [
    "n = 5\n",
    "\n",
    "def qiskit_qft_unitary(n, do_swaps=False, inverse=False):\n",
    "    qc = qiskit.QuantumCircuit(n)\n",
    "    qiskit_qft(qc, range(n), do_swaps=do_swaps, inverse=inverse)\n",
    "    return qiskit_get_unitary(qc)\n",
    "\n",
    "fwd_swaps = qiskit_qft_unitary(n, do_swaps=True)\n",
    "fwd_no_swaps = qiskit_qft_unitary(n, do_swaps=False)\n",
    "\n",
    "inv_swaps = qiskit_qft_unitary(n, do_swaps=True, inverse=True)\n",
    "inv_no_swaps = qiskit_qft_unitary(n, do_swaps=False, inverse=True)\n",
    "\n",
    "print(np.allclose(fwd_swaps, reorder_qft(fwd_no_swaps)))\n",
    "print(np.allclose(inv_swaps, reorder_qft(inv_no_swaps, axis=1)))"
   ]
  },
  {
   "cell_type": "markdown",
   "metadata": {},
   "source": [
    "## Using swaps off circuit"
   ]
  },
  {
   "cell_type": "code",
   "execution_count": 9,
   "metadata": {
    "tags": []
   },
   "outputs": [
    {
     "output_type": "stream",
     "name": "stdout",
     "text": "[[ 0.5+0.j   0.5-0.j   0.5-0.j   0.5-0.j ]\n [ 0.5+0.j   0. +0.5j -0.5+0.j  -0. -0.5j]\n [ 0.5+0.j  -0.5+0.j   0.5-0.j  -0.5+0.j ]\n [ 0.5+0.j  -0. -0.5j -0.5+0.j   0. +0.5j]]\nTrue\nTrue\n"
    }
   ],
   "source": [
    "n = 2\n",
    "\n",
    "def qiskit_qft_unitary(n, do_swaps=False, inverse=False, use_classical_swaps=False):\n",
    "    qc = qiskit.QuantumCircuit(n)\n",
    "    qreg = range(n)\n",
    "    if do_swaps and use_classical_swaps and inverse:\n",
    "        qreg = qreg[::-1]\n",
    "    qiskit_qft(qc, qreg, do_swaps=do_swaps and not use_classical_swaps, inverse=inverse)\n",
    "    unitary = qiskit_get_unitary(qc)\n",
    "    if do_swaps and use_classical_swaps:\n",
    "        unitary = reorder_qft(unitary)\n",
    "    return unitary\n",
    "        \n",
    "\n",
    "fwd_swaps = qiskit_qft_unitary(n, do_swaps=True, use_classical_swaps=False)\n",
    "fwd_no_swaps = qiskit_qft_unitary(n, do_swaps=True, use_classical_swaps=True)\n",
    "\n",
    "inv_swaps = qiskit_qft_unitary(n, do_swaps=True, inverse=True, use_classical_swaps=False)\n",
    "inv_no_swaps = qiskit_qft_unitary(n, do_swaps=True, inverse=True, use_classical_swaps=True)\n",
    "\n",
    "print(np.round(fwd_swaps, 15))\n",
    "\n",
    "print(np.allclose(fwd_swaps, fwd_no_swaps))\n",
    "print(np.allclose(inv_swaps, inv_no_swaps))"
   ]
  },
  {
   "cell_type": "markdown",
   "metadata": {},
   "source": [
    "# QFT unitary matrix ($n=2$)"
   ]
  },
  {
   "cell_type": "code",
   "execution_count": 10,
   "metadata": {},
   "outputs": [
    {
     "output_type": "execute_result",
     "data": {
      "text/plain": "matrix([[ 0.5+0.j ,  0.5+0.j ,  0.5+0.j ,  0.5+0.j ],\n        [ 0.5+0.j ,  0. +0.5j, -0.5+0.j ,  0. -0.5j],\n        [ 0.5+0.j , -0.5+0.j ,  0.5+0.j , -0.5+0.j ],\n        [ 0.5+0.j ,  0. -0.5j, -0.5+0.j ,  0. +0.5j]])"
     },
     "metadata": {},
     "execution_count": 10
    }
   ],
   "source": [
    "# Forward transform matrix\n",
    "h0 = np.matrix([[1, 0, 1, 0], [0, 1, 0, 1], [1, 0, -1, 0], [0, 1, 0, -1]])/np.sqrt(2)\n",
    "h1 = np.matrix([[1, 1, 0, 0], [1, -1, 0, 0], [0, 0, 1, 1], [0, 0, 1, -1]])/np.sqrt(2)\n",
    "cr2 = np.matrix([[1, 0, 0, 0], [0, 1, 0, 0], [0, 0, 1, 0], [0, 0, 0, 1j]])\n",
    "u = h1*cr2*h0\n",
    "u = np.matrix(reorder_qft(u))\n",
    "u"
   ]
  },
  {
   "cell_type": "code",
   "execution_count": 11,
   "metadata": {},
   "outputs": [
    {
     "output_type": "execute_result",
     "data": {
      "text/plain": "matrix([[ 0.5+0.j ,  0.5-0.j ,  0.5-0.j ,  0.5-0.j ],\n        [ 0.5+0.j ,  0. +0.5j, -0.5+0.j , -0. -0.5j],\n        [ 0.5+0.j , -0.5+0.j ,  0.5-0.j , -0.5+0.j ],\n        [ 0.5+0.j , -0. -0.5j, -0.5+0.j ,  0. +0.5j]])"
     },
     "metadata": {},
     "execution_count": 11
    }
   ],
   "source": [
    "# Forward transform matrix\n",
    "qc = qiskit.QuantumCircuit(2)\n",
    "qc.h(1)\n",
    "qc.cu1(np.pi/2, 0, 1)\n",
    "qc.h(0)\n",
    "result = qiskit_get_unitary(qc)\n",
    "result = np.round(result, 15)\n",
    "result = np.matrix(reorder_qft(result))\n",
    "result"
   ]
  },
  {
   "cell_type": "code",
   "execution_count": 12,
   "metadata": {},
   "outputs": [
    {
     "output_type": "execute_result",
     "data": {
      "text/plain": "array([[ 0.5+0.j ,  0.5-0.j ,  0.5-0.j ,  0.5-0.j ],\n       [ 0.5+0.j ,  0. -0.5j, -0.5+0.j ,  0. +0.5j],\n       [ 0.5+0.j , -0.5+0.j ,  0.5-0.j , -0.5+0.j ],\n       [ 0.5+0.j , -0. +0.5j, -0.5+0.j , -0. -0.5j]])"
     },
     "metadata": {},
     "execution_count": 12
    }
   ],
   "source": [
    "# Forward transform matrix\n",
    "result = qiskit_qft_unitary(2, do_swaps=True, inverse=True)\n",
    "result = np.round(result, 15)\n",
    "# result = reorder_qft(result)\n",
    "result"
   ]
  },
  {
   "cell_type": "code",
   "execution_count": null,
   "metadata": {},
   "outputs": [],
   "source": []
  }
 ],
 "metadata": {
  "kernelspec": {
   "display_name": "Python 3",
   "language": "python",
   "name": "python3"
  },
  "language_info": {
   "codemirror_mode": {
    "name": "ipython",
    "version": 3
   },
   "file_extension": ".py",
   "mimetype": "text/x-python",
   "name": "python",
   "nbconvert_exporter": "python",
   "pygments_lexer": "ipython3",
   "version": "3.8.2-final"
  }
 },
 "nbformat": 4,
 "nbformat_minor": 4
}