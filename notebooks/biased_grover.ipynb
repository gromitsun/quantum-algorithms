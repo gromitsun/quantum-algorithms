{
 "cells": [
  {
   "cell_type": "code",
   "execution_count": 1,
   "metadata": {},
   "outputs": [],
   "source": [
    "import qiskit\n",
    "import numpy as np\n",
    "\n",
    "%matplotlib inline\n",
    "import matplotlib.pyplot as plt"
   ]
  },
  {
   "cell_type": "markdown",
   "metadata": {},
   "source": [
    "# Key operators"
   ]
  },
  {
   "cell_type": "code",
   "execution_count": 23,
   "metadata": {},
   "outputs": [],
   "source": [
    "def init_source_op(qc, q, source):\n",
    "    \"\"\"Construct the source state from all 0's state\"\"\"\n",
    "    for qbit, sbit in zip(q, source):\n",
    "        if sbit:\n",
    "            qc.x(qbit)\n",
    "            \n",
    "def a_op(qc, q, source, inv=False):\n",
    "    \"\"\"Construct all equal superposition from initial (source) state\"\"\"\n",
    "    for qbit, sbit in zip(q, source):\n",
    "        qc.rx((-1)**(inv+sbit)*np.pi/2, qbit)\n",
    "\n",
    "def mcz_op(qc, controls, target):\n",
    "    \"\"\"Multi-controlled-Z operator\"\"\"\n",
    "    return qc.mcu1(np.pi, controls, target)\n",
    "    \n",
    "def ss_op(qc, q):\n",
    "    \"\"\"Reflection about initial (source) state\"\"\"\n",
    "    # multi-controlled-Z\n",
    "    qc.mcu1(np.pi, q[:-1], q[-1])\n",
    "    \n",
    "def st_op(qc, q, target, phase=np.pi):\n",
    "    \"\"\"Reflection about target state (t)\"\"\"\n",
    "    # flip qubits corresponding to a zero target bit\n",
    "    for qbit, tbit in zip(q, target):\n",
    "        if not tbit:\n",
    "            qc.x(qbit)\n",
    "    # multi-controlled-Z\n",
    "    qc.mcu1(phase, q[:-1], q[-1])\n",
    "    # flip qubits corresponding to a zero target bit\n",
    "    for qbit, tbit in zip(q, target):\n",
    "        if not tbit:\n",
    "            qc.x(qbit)\n",
    "\n",
    "def grover_op(qc, q, source, weights=None):\n",
    "    \"\"\"Operator for one Grover iteration\"\"\"\n",
    "    # number of qubits\n",
    "    n = len(source)\n",
    "    # add phase according to state value\n",
    "    for i in range(2**n):\n",
    "        state = [int(bit) for bit in reversed(bin(i)[2:].zfill(n))]\n",
    "        weight = weights[i] if weights is not None else i/(2**n-1)\n",
    "        if weight != 0:\n",
    "            st_op(qc, q, state, phase=np.pi*weight)\n",
    "    a_op(qc, q, source, inv=False)\n",
    "    ss_op(qc, q)\n",
    "    a_op(qc, q, source, inv=True)"
   ]
  },
  {
   "cell_type": "code",
   "execution_count": 13,
   "metadata": {},
   "outputs": [],
   "source": [
    "n = 3\n",
    "source = [0] * n\n",
    "\n",
    "# quantum circuit\n",
    "q = qiskit.QuantumRegister(n, name='q')\n",
    "qc = qiskit.QuantumCircuit(q, name='qc')\n",
    "\n",
    "# initialize\n",
    "# construct source\n",
    "init_source_op(qc, q, source)\n",
    "# construct equal superposition\n",
    "a_op(qc, q, source)\n",
    "\n",
    "# add phase according to state value\n",
    "for i in range(2**n):\n",
    "    state = [int(bit) for bit in reversed(bin(i)[2:].zfill(n))]\n",
    "    st_op(qc, q, state, phase=np.pi*i/(2**n-1))\n",
    "\n",
    "qc.measure_all()\n",
    "\n",
    "# qc.draw()"
   ]
  },
  {
   "cell_type": "code",
   "execution_count": 14,
   "metadata": {},
   "outputs": [
    {
     "name": "stdout",
     "output_type": "stream",
     "text": [
      "{'100': 509, '111': 496, '001': 504, '000': 520, '101': 485, '010': 525, '110': 560, '011': 497}\n"
     ]
    },
    {
     "data": {
      "image/png": "[encoded data removed]",
      "text/plain": [
       "<Figure size 504x360 with 1 Axes>"
      ]
     },
     "execution_count": 14,
     "metadata": {},
     "output_type": "execute_result"
    }
   ],
   "source": [
    "# qasm simulator\n",
    "backend = qiskit.BasicAer.get_backend('qasm_simulator')\n",
    "job = qiskit.execute(qc, backend, shots=4096)\n",
    "results = job.result().get_counts()\n",
    "print(results)\n",
    "qiskit.visualization.plot_histogram(results)"
   ]
  },
  {
   "cell_type": "code",
   "execution_count": 102,
   "metadata": {},
   "outputs": [
    {
     "data": {
      "text/plain": [
       "array([-1.80457737e-16,  1.42857143e-01,  2.85714286e-01,  4.28571429e-01,\n",
       "        5.71428571e-01,  7.14285714e-01,  8.57142857e-01,  1.00000000e+00])"
      ]
     },
     "execution_count": 102,
     "metadata": {},
     "output_type": "execute_result"
    }
   ],
   "source": [
    "# state vector simulator\n",
    "backend = qiskit.BasicAer.get_backend('statevector_simulator')\n",
    "qc.remove_final_measurements()\n",
    "job = qiskit.execute(qc, backend)\n",
    "np.angle(job.result().get_statevector())/np.pi"
   ]
  },
  {
   "cell_type": "markdown",
   "metadata": {},
   "source": [
    "# Construct quantum circuit"
   ]
  },
  {
   "cell_type": "code",
   "execution_count": 15,
   "metadata": {},
   "outputs": [
    {
     "name": "stdout",
     "output_type": "stream",
     "text": [
      "Optimal number of iterations = 2\n",
      "------- operation counts (raw) -------\n",
      "x: 320\n",
      "mcu1: 66\n",
      "rx: 25\n",
      "------- operation counts (decomposed) -------\n",
      "cu1: 990\n",
      "cx: 924\n",
      "u3: 320\n",
      "r: 25\n"
     ]
    }
   ],
   "source": [
    "# inputs\n",
    "n = 5\n",
    "source = [0] * n\n",
    "\n",
    "# optimal iterations\n",
    "niter = 2 # int(np.ceil(np.pi*np.sqrt(2**n)/4))\n",
    "print(\"Optimal number of iterations = %s\" % niter)\n",
    "\n",
    "# quantum circuit\n",
    "q = qiskit.QuantumRegister(n, name='q')\n",
    "c = qiskit.ClassicalRegister(n, name='c')\n",
    "qc = qiskit.QuantumCircuit(q, c, name='qc')\n",
    "\n",
    "# initialize\n",
    "# construct source\n",
    "init_source_op(qc, q, source)\n",
    "# construct equal superposition\n",
    "a_op(qc, q, source)\n",
    "\n",
    "# Grover iterations\n",
    "for _ in range(niter):\n",
    "    grover_op(qc, q, source)\n",
    "    \n",
    "# measurement\n",
    "list(map(lambda x: qc.measure(*x), zip(q, c)))\n",
    "\n",
    "print(\"------- operation counts (raw) -------\")\n",
    "for op, count in qc.count_ops().items():\n",
    "    if op == 'measure':\n",
    "        continue\n",
    "    print(\"%s: %d\" % (op, count))\n",
    "    \n",
    "print(\"------- operation counts (decomposed) -------\")\n",
    "for op, count in qc.decompose().count_ops().items():\n",
    "    if op == 'measure':\n",
    "        continue\n",
    "    print(\"%s: %d\" % (op, count))\n",
    "\n",
    "# qc.draw()"
   ]
  },
  {
   "cell_type": "markdown",
   "metadata": {},
   "source": [
    "# Qiskit simulation"
   ]
  },
  {
   "cell_type": "code",
   "execution_count": 16,
   "metadata": {},
   "outputs": [
    {
     "name": "stdout",
     "output_type": "stream",
     "text": [
      "{'11100': 66, '01001': 104, '00010': 115, '11110': 139, '00110': 33, '01110': 226, '00100': 47, '11010': 33, '11001': 45, '00000': 228, '11011': 52, '00101': 36, '10010': 192, '10100': 152, '10011': 180, '10101': 137, '00011': 60, '01100': 182, '01011': 168, '10110': 115, '01000': 63, '11111': 238, '01010': 139, '10000': 253, '10001': 205, '01101': 215, '01111': 213, '00111': 47, '00001': 170, '10111': 78, '11000': 53, '11101': 112}\n"
     ]
    },
    {
     "data": {
      "image/png": "[encoded data removed]",
      "text/plain": [
       "<Figure size 504x360 with 1 Axes>"
      ]
     },
     "execution_count": 16,
     "metadata": {},
     "output_type": "execute_result"
    }
   ],
   "source": [
    "# qasm simulator\n",
    "backend = qiskit.BasicAer.get_backend('qasm_simulator')\n",
    "job = qiskit.execute(qc, backend, shots=4096)\n",
    "results = job.result().get_counts()\n",
    "print(results)\n",
    "qiskit.visualization.plot_histogram(results)"
   ]
  },
  {
   "cell_type": "code",
   "execution_count": 112,
   "metadata": {},
   "outputs": [
    {
     "data": {
      "text/plain": [
       "array([-0.28301751, -0.27038691, -0.2581619 , -0.24643996, -0.23535056,\n",
       "       -0.22506955, -0.21584178, -0.20801807, -0.20211803, -0.19894173,\n",
       "       -0.1997777 , -0.20681019, -0.2239457 , -0.25844474, -0.32315728,\n",
       "       -0.43205815, -0.56794185, -0.67684272, -0.74155526, -0.7760543 ,\n",
       "       -0.79318981, -0.8002223 , -0.80105827, -0.79788197, -0.79198193,\n",
       "       -0.78415822, -0.77493045, -0.76464944, -0.75356004, -0.7418381 ,\n",
       "       -0.72961309, -0.71698249])"
      ]
     },
     "execution_count": 112,
     "metadata": {},
     "output_type": "execute_result"
    }
   ],
   "source": [
    "# state vector simulator\n",
    "backend = qiskit.BasicAer.get_backend('statevector_simulator')\n",
    "qc.remove_final_measurements()\n",
    "job = qiskit.execute(qc, backend)\n",
    "np.angle(job.result().get_statevector())/np.pi"
   ]
  },
  {
   "cell_type": "code",
   "execution_count": 6,
   "metadata": {},
   "outputs": [
    {
     "data": {
      "text/plain": [
       "array([[ 9.61579519e-17+5.13584637e-03j,  1.50234296e-01+6.98567981e-16j,\n",
       "         2.03319095e-01+4.52456188e-16j, ...,\n",
       "        -7.10027482e-16+2.03319095e-01j, -4.04497209e-16+1.50234296e-01j,\n",
       "         1.50234296e-01+4.70416702e-16j],\n",
       "       [ 5.13584637e-03-3.80447155e-17j, -6.46745217e-16+2.03319095e-01j,\n",
       "         5.63478490e-16-2.03319095e-01j, ...,\n",
       "        -1.50234296e-01-4.46130573e-16j,  1.50234296e-01+5.39805641e-16j,\n",
       "        -3.56143893e-16+2.03319095e-01j],\n",
       "       [ 5.13584637e-03-7.25223446e-17j,  4.24481672e-16-1.50234296e-01j,\n",
       "        -3.55092732e-16+1.50234296e-01j, ...,\n",
       "         2.03319095e-01+6.75333012e-16j, -2.03319095e-01-3.90838362e-16j,\n",
       "        -4.53288407e-16+2.03319095e-01j],\n",
       "       ...,\n",
       "       [ 3.55402697e-17+5.13584637e-03j, -2.03319095e-01-5.31044324e-16j,\n",
       "         2.03319095e-01+4.26128696e-16j, ...,\n",
       "        -3.92150767e-17+2.03319095e-01j,  3.83828570e-17-2.03319095e-01j,\n",
       "         1.50234296e-01-7.57145538e-17j],\n",
       "       [ 2.25082821e-17+5.13584637e-03j,  1.50234296e-01+3.83838511e-16j,\n",
       "        -1.50234296e-01-4.14231314e-16j, ...,\n",
       "        -3.16629036e-17-1.50234296e-01j,  3.94340172e-17+1.50234296e-01j,\n",
       "         1.50234296e-01-1.35746312e-16j],\n",
       "       [ 5.13584637e-03-9.77734744e-17j, -3.78388658e-16+2.03319095e-01j,\n",
       "        -5.15896436e-16+1.50234296e-01j, ...,\n",
       "         2.03319095e-01-7.87461197e-17j,  1.50234296e-01-3.14439631e-17j,\n",
       "         1.55073953e-16+2.03319095e-01j]])"
      ]
     },
     "execution_count": 6,
     "metadata": {},
     "output_type": "execute_result"
    }
   ],
   "source": [
    "backend = qiskit.BasicAer.get_backend('unitary_simulator')\n",
    "qc.remove_final_measurements()\n",
    "job = qiskit.execute(qc, backend)\n",
    "job.result().get_unitary()"
   ]
  },
  {
   "cell_type": "markdown",
   "metadata": {},
   "source": [
    "# Analysis"
   ]
  },
  {
   "cell_type": "code",
   "execution_count": 30,
   "metadata": {},
   "outputs": [
    {
     "data": {
      "image/png": "[encoded data removed]",
      "text/plain": [
       "<Figure size 432x288 with 1 Axes>"
      ]
     },
     "metadata": {
      "needs_background": "light"
     },
     "output_type": "display_data"
    }
   ],
   "source": [
    "# success rate vs number of iterations\n",
    "\n",
    "# inputs\n",
    "target = [0, 1, 0, 1, 0]\n",
    "n = len(target)\n",
    "source = [0] * n\n",
    "\n",
    "weights = [0] * 2**n\n",
    "i_target = 0\n",
    "for bit in target:\n",
    "    i_target = (i_target << 1) | bit\n",
    "weights[i_target] = 0.5\n",
    "b_target = bin(i_target)[2:].zfill(n)\n",
    "\n",
    "# simulation parameters\n",
    "backend = qiskit.BasicAer.get_backend('qasm_simulator')\n",
    "shots = 4096\n",
    "niters = list(range(9))\n",
    "\n",
    "# outputs\n",
    "res = []\n",
    "\n",
    "# iterate over number of Grover iterations\n",
    "for r in niters:\n",
    "    \n",
    "    q = qiskit.QuantumRegister(n, name='q')\n",
    "    c = qiskit.ClassicalRegister(n, name='c')\n",
    "    qc = qiskit.QuantumCircuit(q, c, name='qc')\n",
    "    \n",
    "    # initialize\n",
    "    # construct source\n",
    "    init_source_op(qc, q, source)\n",
    "    # construct equal superposition\n",
    "    a_op(qc, q, source)\n",
    "    \n",
    "    # Grover iterations\n",
    "    for _ in range(r):\n",
    "        grover_op(qc, q, source, weights)\n",
    "\n",
    "    # measure\n",
    "    list(map(lambda x: qc.measure(*x), zip(q, c)))\n",
    "\n",
    "    job = qiskit.execute(qc, backend, shots=shots)\n",
    "    counts = job.result().get_counts().get(b_target, 0)\n",
    "    res.append(counts)\n",
    "    \n",
    "# plot\n",
    "plt.plot(niters, [c/shots for c in res])\n",
    "plt.xlabel(\"Grover iterations\")\n",
    "plt.ylabel(\"Success probability\")\n",
    "plt.grid('on')"
   ]
  },
  {
   "cell_type": "code",
   "execution_count": null,
   "metadata": {},
   "outputs": [],
   "source": []
  }
 ],
 "metadata": {
  "kernelspec": {
   "display_name": "Python 3",
   "language": "python",
   "name": "python3"
  },
  "language_info": {
   "codemirror_mode": {
    "name": "ipython",
    "version": 3
   },
   "file_extension": ".py",
   "mimetype": "text/x-python",
   "name": "python",
   "nbconvert_exporter": "python",
   "pygments_lexer": "ipython3",
   "version": "3.8.2"
  }
 },
 "nbformat": 4,
 "nbformat_minor": 4
}
