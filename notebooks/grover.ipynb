{
 "cells": [
  {
   "cell_type": "code",
   "execution_count": 1,
   "metadata": {},
   "outputs": [],
   "source": [
    "import qiskit\n",
    "import numpy as np\n",
    "\n",
    "%matplotlib inline\n",
    "import matplotlib.pyplot as plt"
   ]
  },
  {
   "cell_type": "markdown",
   "metadata": {},
   "source": [
    "# Key operators"
   ]
  },
  {
   "cell_type": "code",
   "execution_count": 2,
   "metadata": {},
   "outputs": [],
   "source": [
    "def a_op(qc, q):\n",
    "    \"\"\"Construct all equal superposition from initial (s = all 0's) state\"\"\"\n",
    "    list(map(qc.h, q))\n",
    "    \n",
    "def mcz_op(qc, controls, target):\n",
    "    \"\"\"Multi-controlled-Z operator\"\"\"\n",
    "    return qc.mcu1(np.pi, controls, target)\n",
    "    \n",
    "def s0_op(qc, q):\n",
    "    \"\"\"Reflection about initial state (s = all 0's)\"\"\"\n",
    "    # flip all qubits\n",
    "    list(map(qc.x, q))\n",
    "    # multi-controlled-Z\n",
    "    qc.mcu1(np.pi, q[:-1], q[-1])\n",
    "    # flip all qubits\n",
    "    list(map(qc.x, q))\n",
    "    \n",
    "def st_op(qc, q, target):\n",
    "    \"\"\"Reflection about target state (t)\"\"\"\n",
    "    # flip qubits corresponding to a zero target bit\n",
    "    for qbit, tbit in zip(q, target):\n",
    "        if not tbit:\n",
    "            qc.x(qbit)\n",
    "    # multi-controlled-Z\n",
    "    qc.mcu1(np.pi, q[:-1], q[-1])\n",
    "    # flip qubits corresponding to a zero target bit\n",
    "    for qbit, tbit in zip(q, target):\n",
    "        if not tbit:\n",
    "            qc.x(qbit)\n",
    "\n",
    "def grover_op(qc, q, target):\n",
    "    \"\"\"Operator for one Grover iteration\"\"\"\n",
    "    a_op(qc, q)\n",
    "    s0_op(qc, q)\n",
    "    a_op(qc, q)\n",
    "    st_op(qc, q, target)"
   ]
  },
  {
   "cell_type": "markdown",
   "metadata": {},
   "source": [
    "# Construct quantum circuit"
   ]
  },
  {
   "cell_type": "code",
   "execution_count": 3,
   "metadata": {},
   "outputs": [
    {
     "name": "stdout",
     "output_type": "stream",
     "text": [
      "Optimal number of iterations = 5\n",
      "------- operation counts (raw) -------\n",
      "x: 80\n",
      "h: 55\n",
      "mcu1: 10\n",
      "------- operation counts (decomposed) -------\n",
      "cu1: 150\n",
      "cx: 140\n",
      "u3: 80\n",
      "u2: 55\n"
     ]
    }
   ],
   "source": [
    "# inputs\n",
    "n = 5\n",
    "target = [0, 1, 0, 1, 0]\n",
    "\n",
    "# optimal iterations\n",
    "niter = int(np.ceil(np.pi*np.sqrt(2**n)/4))\n",
    "print(\"Optimal number of iterations = %s\" % niter)\n",
    "\n",
    "# quantum circuit\n",
    "q = qiskit.QuantumRegister(n, name='q')\n",
    "c = qiskit.ClassicalRegister(n, name='c')\n",
    "qc = qiskit.QuantumCircuit(q, c, name='qc')\n",
    "\n",
    "# initialize\n",
    "a_op(qc, q)\n",
    "\n",
    "# Grover iterations\n",
    "for _ in range(niter):\n",
    "    grover_op(qc, q, target)\n",
    "    \n",
    "# measurement\n",
    "list(map(lambda x: qc.measure(*x), zip(q, c)))\n",
    "\n",
    "print(\"------- operation counts (raw) -------\")\n",
    "for op, count in qc.count_ops().items():\n",
    "    if op == 'measure':\n",
    "        continue\n",
    "    print(\"%s: %d\" % (op, count))\n",
    "    \n",
    "print(\"------- operation counts (decomposed) -------\")\n",
    "for op, count in qc.decompose().count_ops().items():\n",
    "    if op == 'measure':\n",
    "        continue\n",
    "    print(\"%s: %d\" % (op, count))\n",
    "\n",
    "# qc.draw()"
   ]
  },
  {
   "cell_type": "markdown",
   "metadata": {},
   "source": [
    "# Qiskit simulation"
   ]
  },
  {
   "cell_type": "code",
   "execution_count": 4,
   "metadata": {},
   "outputs": [
    {
     "data": {
      "text/plain": [
       "{'01001': 1, '11000': 2, '11101': 1, '01010': 4091, '01101': 1}"
      ]
     },
     "execution_count": 4,
     "metadata": {},
     "output_type": "execute_result"
    }
   ],
   "source": [
    "# qasm simulator\n",
    "backend = qiskit.BasicAer.get_backend('qasm_simulator')\n",
    "job = qiskit.execute(qc, backend, shots=4096)\n",
    "job.result().get_counts()"
   ]
  },
  {
   "cell_type": "code",
   "execution_count": 5,
   "metadata": {},
   "outputs": [
    {
     "data": {
      "text/plain": [
       "array([-0.00513585+6.72205347e-17j, -0.00513585+5.68121938e-17j,\n",
       "       -0.00513585+1.84314369e-17j, -0.00513585+4.46691295e-17j,\n",
       "       -0.00513585-3.40439482e-17j, -0.00513585-1.82145965e-17j,\n",
       "       -0.00513585+6.72205347e-17j, -0.00513585+1.18828558e-16j,\n",
       "       -0.00513585+1.23165367e-16j, -0.00513585+2.60208521e-17j,\n",
       "       -0.99959107+3.80251386e-15j, -0.00513585+1.17744356e-16j,\n",
       "       -0.00513585-6.59194921e-17j, -0.00513585-9.43255890e-17j,\n",
       "       -0.00513585+9.54097912e-17j, -0.00513585+1.41163123e-16j,\n",
       "       -0.00513585-1.75856367e-17j, -0.00513585+4.03107593e-17j,\n",
       "       -0.00513585-1.15141045e-17j, -0.00513585+1.40730667e-17j,\n",
       "       -0.00513585-3.88359993e-17j, -0.00513585+2.35148309e-17j,\n",
       "       -0.00513585+3.09866206e-17j, -0.00513585+1.29670580e-16j,\n",
       "       -0.00513585-9.34570020e-18j, -0.00513585+2.84060969e-17j,\n",
       "       -0.00513585+1.62414711e-17j, -0.00513585-2.99239800e-17j,\n",
       "       -0.00513585-3.27416804e-18j, -0.00513585-8.45677695e-18j,\n",
       "       -0.00513585+7.15357819e-17j, -0.00513585+9.60603125e-17j])"
      ]
     },
     "execution_count": 5,
     "metadata": {},
     "output_type": "execute_result"
    }
   ],
   "source": [
    "# state vector simulator\n",
    "backend = qiskit.BasicAer.get_backend('statevector_simulator')\n",
    "qc.remove_final_measurements()\n",
    "job = qiskit.execute(qc, backend)\n",
    "job.result().get_statevector()"
   ]
  },
  {
   "cell_type": "code",
   "execution_count": 6,
   "metadata": {},
   "outputs": [
    {
     "data": {
      "text/plain": [
       "array([[-0.00513585+6.72205347e-17j, -0.1502343 -1.00613962e-16j,\n",
       "        -0.20331909+4.57966998e-16j, ..., -0.20331909+5.75928194e-16j,\n",
       "        -0.1502343 +2.74086309e-16j, -0.1502343 -2.08166817e-17j],\n",
       "       [-0.00513585+5.68121938e-17j,  0.20331909-2.84494650e-16j,\n",
       "        -0.20331909+3.88578059e-16j, ...,  0.1502343 -1.56125113e-16j,\n",
       "        -0.1502343 +5.89805982e-17j,  0.20331909-2.63677968e-16j],\n",
       "       [-0.00513585+1.84314369e-17j, -0.1502343 +4.61436445e-16j,\n",
       "         0.1502343 -2.74086309e-16j, ..., -0.20331909+6.66133815e-16j,\n",
       "         0.20331909-6.80011603e-16j,  0.20331909-5.82867088e-16j],\n",
       "       ...,\n",
       "       [-0.00513585-8.45677695e-18j,  0.20331909-5.48172618e-16j,\n",
       "        -0.20331909+5.82867088e-16j, ..., -0.20331909+4.51028104e-16j,\n",
       "         0.20331909-3.81639165e-16j, -0.1502343 +6.93889390e-18j],\n",
       "       [-0.00513585+7.15357819e-17j, -0.1502343 +5.31876544e-16j,\n",
       "         0.1502343 -3.47995855e-16j, ...,  0.1502343 -4.86773733e-16j,\n",
       "        -0.1502343 +4.55548711e-16j, -0.1502343 +4.20854241e-16j],\n",
       "       [-0.00513585+9.60603125e-17j,  0.20331909-8.32667268e-16j,\n",
       "         0.1502343 -2.81025203e-16j, ..., -0.20331909+6.80011603e-16j,\n",
       "        -0.1502343 +4.51028104e-16j,  0.20331909-5.48172618e-16j]])"
      ]
     },
     "execution_count": 6,
     "metadata": {},
     "output_type": "execute_result"
    }
   ],
   "source": [
    "backend = qiskit.BasicAer.get_backend('unitary_simulator')\n",
    "qc.remove_final_measurements()\n",
    "job = qiskit.execute(qc, backend)\n",
    "job.result().get_unitary()"
   ]
  },
  {
   "cell_type": "markdown",
   "metadata": {},
   "source": [
    "# Analysis"
   ]
  },
  {
   "cell_type": "code",
   "execution_count": 7,
   "metadata": {},
   "outputs": [
    {
     "data": {
      "image/png": "[encoded data removed]",
      "text/plain": [
       "<Figure size 432x288 with 1 Axes>"
      ]
     },
     "metadata": {
      "needs_background": "light"
     },
     "output_type": "display_data"
    }
   ],
   "source": [
    "# success rate vs number of iterations\n",
    "\n",
    "# inputs\n",
    "n = 5\n",
    "target = [0, 1, 0, 1, 0]\n",
    "\n",
    "# simulation parameters\n",
    "backend = qiskit.BasicAer.get_backend('qasm_simulator')\n",
    "shots = 4096\n",
    "niters = list(range(1, 10))\n",
    "\n",
    "# outputs\n",
    "res = []\n",
    "\n",
    "# iterate over number of Grover iterations\n",
    "for r in niters:\n",
    "    \n",
    "    q = qiskit.QuantumRegister(n, name='q')\n",
    "    c = qiskit.ClassicalRegister(n, name='c')\n",
    "    qc = qiskit.QuantumCircuit(q, c, name='qc')\n",
    "    \n",
    "    # initialize\n",
    "    a_op(qc, q)\n",
    "    \n",
    "    # Grover iterations\n",
    "    for _ in range(r):\n",
    "        grover_op(qc, q, target)\n",
    "\n",
    "    # measure\n",
    "    list(map(lambda x: qc.measure(*x), zip(q, c)))\n",
    "\n",
    "    job = qiskit.execute(qc, backend, shots=shots)\n",
    "    counts = job.result().get_counts().get('01010', 0)\n",
    "    res.append(counts)\n",
    "    \n",
    "# plot\n",
    "plt.plot(niters, [c/shots for c in res])\n",
    "plt.xlabel(\"Grover iterations\")\n",
    "plt.ylabel(\"Success probability\")\n",
    "plt.grid('on')"
   ]
  }
 ],
 "metadata": {
  "kernelspec": {
   "display_name": "Python 3",
   "language": "python",
   "name": "python3"
  },
  "language_info": {
   "codemirror_mode": {
    "name": "ipython",
    "version": 3
   },
   "file_extension": ".py",
   "mimetype": "text/x-python",
   "name": "python",
   "nbconvert_exporter": "python",
   "pygments_lexer": "ipython3",
   "version": "3.8.2"
  }
 },
 "nbformat": 4,
 "nbformat_minor": 4
}
