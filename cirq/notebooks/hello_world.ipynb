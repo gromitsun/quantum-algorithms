{
 "cells": [
  {
   "cell_type": "code",
   "execution_count": 1,
   "metadata": {},
   "outputs": [],
   "source": [
    "import cirq"
   ]
  },
  {
   "cell_type": "code",
   "execution_count": 17,
   "metadata": {},
   "outputs": [
    {
     "name": "stdout",
     "output_type": "stream",
     "text": [
      "Circuit:\n",
      "0: ───H───@───\n",
      "          │\n",
      "1: ───────X───\n",
      "\n",
      "Unitary matrix representation:\n",
      "H = \n",
      "[[ 0.70710678+0.j  0.70710678+0.j]\n",
      " [ 0.70710678+0.j -0.70710678+0.j]]\n",
      "CX = \n",
      "[[0.+0.j 1.+0.j]\n",
      " [1.+0.j 0.+0.j]]\n",
      "H(q0) * CX(0, 1) = \n",
      "[[ 0.70710678+0.j  0.        +0.j  0.70710678+0.j  0.        +0.j]\n",
      " [ 0.        +0.j  0.70710678+0.j  0.        +0.j  0.70710678+0.j]\n",
      " [-0.        +0.j  0.70710678+0.j -0.        +0.j -0.70710678+0.j]\n",
      " [ 0.70710678+0.j -0.        +0.j -0.70710678+0.j -0.        +0.j]]\n",
      "\n",
      "Simulate the circuit:\n",
      "measurements: (no measurements)\n",
      "output vector: 0.707|00⟩ + 0.707|11⟩\n",
      "\n",
      "Sample the circuit:\n",
      "Counter({0: 507, 3: 493})\n"
     ]
    }
   ],
   "source": [
    "# Create a circuit to generate a Bell State:\n",
    "# sqrt(2) * ( |00> + |11> )\n",
    "bell_circuit = cirq.Circuit()\n",
    "q0, q1 = cirq.LineQubit.range(2)\n",
    "bell_circuit.append(cirq.H(q0))\n",
    "bell_circuit.append(cirq.CNOT(q0,q1))\n",
    "\n",
    "print('Circuit:')\n",
    "print(bell_circuit)\n",
    "print()\n",
    "\n",
    "print('Unitary matrix representation:')\n",
    "print('H = ')\n",
    "print(cirq.unitary(cirq.H))\n",
    "print('CX = ')\n",
    "print(cirq.unitary(cirq.X))\n",
    "print('H(q0) * CX(0, 1) = ')\n",
    "print(cirq.unitary(bell_circuit))\n",
    "print()\n",
    "\n",
    "# Initialize Simulator\n",
    "s=cirq.Simulator()\n",
    "\n",
    "print('Simulate the circuit:')\n",
    "results=s.simulate(bell_circuit)\n",
    "print(results)\n",
    "print()\n",
    "\n",
    "# For sampling, we need to add a measurement at the end\n",
    "bell_circuit.append(cirq.measure(q0, q1, key='result'))\n",
    "print('Sample the circuit:')\n",
    "samples=s.run(bell_circuit, repetitions=1000)\n",
    "# Print a histogram of results\n",
    "print(samples.histogram(key='result'))"
   ]
  },
  {
   "cell_type": "code",
   "execution_count": null,
   "metadata": {},
   "outputs": [],
   "source": []
  }
 ],
 "metadata": {
  "kernelspec": {
   "display_name": "Python 3",
   "language": "python",
   "name": "python3"
  },
  "language_info": {
   "codemirror_mode": {
    "name": "ipython",
    "version": 3
   },
   "file_extension": ".py",
   "mimetype": "text/x-python",
   "name": "python",
   "nbconvert_exporter": "python",
   "pygments_lexer": "ipython3",
   "version": "3.8.2"
  }
 },
 "nbformat": 4,
 "nbformat_minor": 4
}
