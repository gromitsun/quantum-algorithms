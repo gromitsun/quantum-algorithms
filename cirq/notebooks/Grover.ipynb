{
 "cells": [
  {
   "cell_type": "code",
   "execution_count": 1,
   "metadata": {},
   "outputs": [],
   "source": [
    "import cirq"
   ]
  },
  {
   "cell_type": "markdown",
   "metadata": {},
   "source": [
    "# Key operators"
   ]
  },
  {
   "cell_type": "code",
   "execution_count": null,
   "metadata": {},
   "outputs": [],
   "source": [
    "def init_source_op(q, source):\n",
    "    \"\"\"Construct the source state from all 0's state\"\"\"\n",
    "    for qbit, sbit in zip(q, source):\n",
    "        if sbit:\n",
    "            cirq.X(qbit)\n",
    "            \n",
    "def a_op(q, source, inv=False):\n",
    "    \"\"\"Construct all equal superposition from initial (source) state\"\"\"\n",
    "    for qbit, sbit in zip(q, source):\n",
    "        cirq.rx((-1)**(inv+sbit)*np.pi/2).on(qbit)\n",
    "    \n",
    "def rs_op(q):\n",
    "    \"\"\"Reflection about initial (source) state\"\"\"\n",
    "    # multi-controlled-Z\n",
    "    cirq.Z(q[-1]).controlled_by(*q[:-1])\n",
    "    \n",
    "def rt_op(q, target):\n",
    "    \"\"\"Reflection about target state (t)\"\"\"\n",
    "    # flip qubits corresponding to a zero target bit\n",
    "    for qbit, tbit in zip(q, target):\n",
    "        if not tbit:\n",
    "            cirq.X(qbit)\n",
    "    # multi-controlled-Z\n",
    "    cirq.Z(q[-1]).controlled_by(*q[:-1])\n",
    "    # flip qubits corresponding to a zero target bit\n",
    "    for qbit, tbit in zip(q, target):\n",
    "        if not tbit:\n",
    "            cirq.X(qbit)\n",
    "\n",
    "def grover_op(q, source, target):\n",
    "    \"\"\"Operator for one Grover iteration\"\"\"\n",
    "    a_op(q, source, inv=False)\n",
    "    rs_op(q)\n",
    "    a_op(q, source, inv=True)\n",
    "    rt_op(q, target)"
   ]
  },
  {
   "cell_type": "code",
   "execution_count": 15,
   "metadata": {},
   "outputs": [
    {
     "ename": "AttributeError",
     "evalue": "'int' object has no attribute 'dimension'",
     "output_type": "error",
     "traceback": [
      "\u001b[0;31m---------------------------------------------------------------------------\u001b[0m",
      "\u001b[0;31mAttributeError\u001b[0m                            Traceback (most recent call last)",
      "\u001b[0;32m<ipython-input-15-b00017ad0a78>\u001b[0m in \u001b[0;36m<module>\u001b[0;34m\u001b[0m\n\u001b[1;32m      1\u001b[0m \u001b[0mq\u001b[0m \u001b[0;34m=\u001b[0m \u001b[0mcirq\u001b[0m\u001b[0;34m.\u001b[0m\u001b[0mLineQubit\u001b[0m\u001b[0;34m.\u001b[0m\u001b[0mrange\u001b[0m\u001b[0;34m(\u001b[0m\u001b[0;36m3\u001b[0m\u001b[0;34m)\u001b[0m\u001b[0;34m\u001b[0m\u001b[0;34m\u001b[0m\u001b[0m\n\u001b[0;32m----> 2\u001b[0;31m \u001b[0mcirq\u001b[0m\u001b[0;34m.\u001b[0m\u001b[0mZ\u001b[0m\u001b[0;34m.\u001b[0m\u001b[0mon\u001b[0m\u001b[0;34m(\u001b[0m\u001b[0;36m0\u001b[0m\u001b[0;34m)\u001b[0m\u001b[0;34m.\u001b[0m\u001b[0mcontrolled_by\u001b[0m\u001b[0;34m(\u001b[0m\u001b[0;36m1\u001b[0m\u001b[0;34m,\u001b[0m\u001b[0;36m2\u001b[0m\u001b[0;34m)\u001b[0m\u001b[0;34m\u001b[0m\u001b[0;34m\u001b[0m\u001b[0m\n\u001b[0m",
      "\u001b[0;32m~/.local/lib/python3.8/site-packages/cirq/ops/pauli_gates.py\u001b[0m in \u001b[0;36mon\u001b[0;34m(self, *qubits)\u001b[0m\n\u001b[1;32m     92\u001b[0m                 'Expected a single qubit, got <{!r}>.'.format(qubits))\n\u001b[1;32m     93\u001b[0m         \u001b[0;32mfrom\u001b[0m \u001b[0mcirq\u001b[0m\u001b[0;34m.\u001b[0m\u001b[0mops\u001b[0m\u001b[0;34m.\u001b[0m\u001b[0mpauli_string\u001b[0m \u001b[0;32mimport\u001b[0m \u001b[0mSingleQubitPauliStringGateOperation\u001b[0m\u001b[0;34m\u001b[0m\u001b[0;34m\u001b[0m\u001b[0m\n\u001b[0;32m---> 94\u001b[0;31m         \u001b[0;32mreturn\u001b[0m \u001b[0mSingleQubitPauliStringGateOperation\u001b[0m\u001b[0;34m(\u001b[0m\u001b[0mself\u001b[0m\u001b[0;34m,\u001b[0m \u001b[0mqubits\u001b[0m\u001b[0;34m[\u001b[0m\u001b[0;36m0\u001b[0m\u001b[0;34m]\u001b[0m\u001b[0;34m)\u001b[0m\u001b[0;34m\u001b[0m\u001b[0;34m\u001b[0m\u001b[0m\n\u001b[0m\u001b[1;32m     95\u001b[0m \u001b[0;34m\u001b[0m\u001b[0m\n\u001b[1;32m     96\u001b[0m     \u001b[0;34m@\u001b[0m\u001b[0mproperty\u001b[0m\u001b[0;34m\u001b[0m\u001b[0;34m\u001b[0m\u001b[0m\n",
      "\u001b[0;32m~/.local/lib/python3.8/site-packages/cirq/ops/pauli_string.py\u001b[0m in \u001b[0;36m__init__\u001b[0;34m(self, pauli, qubit)\u001b[0m\n\u001b[1;32m    903\u001b[0m     \u001b[0;32mdef\u001b[0m \u001b[0m__init__\u001b[0m\u001b[0;34m(\u001b[0m\u001b[0mself\u001b[0m\u001b[0;34m,\u001b[0m \u001b[0mpauli\u001b[0m\u001b[0;34m:\u001b[0m \u001b[0mpauli_gates\u001b[0m\u001b[0;34m.\u001b[0m\u001b[0mPauli\u001b[0m\u001b[0;34m,\u001b[0m \u001b[0mqubit\u001b[0m\u001b[0;34m:\u001b[0m \u001b[0;34m'cirq.Qid'\u001b[0m\u001b[0;34m)\u001b[0m\u001b[0;34m:\u001b[0m\u001b[0;34m\u001b[0m\u001b[0;34m\u001b[0m\u001b[0m\n\u001b[1;32m    904\u001b[0m         \u001b[0mPauliString\u001b[0m\u001b[0;34m.\u001b[0m\u001b[0m__init__\u001b[0m\u001b[0;34m(\u001b[0m\u001b[0mself\u001b[0m\u001b[0;34m,\u001b[0m \u001b[0;34m{\u001b[0m\u001b[0mqubit\u001b[0m\u001b[0;34m:\u001b[0m \u001b[0mpauli\u001b[0m\u001b[0;34m}\u001b[0m\u001b[0;34m)\u001b[0m\u001b[0;34m\u001b[0m\u001b[0;34m\u001b[0m\u001b[0m\n\u001b[0;32m--> 905\u001b[0;31m         gate_operation.GateOperation.__init__(self, cast(raw_types.Gate, pauli),\n\u001b[0m\u001b[1;32m    906\u001b[0m                                               [qubit])\n\u001b[1;32m    907\u001b[0m \u001b[0;34m\u001b[0m\u001b[0m\n",
      "\u001b[0;32m~/.local/lib/python3.8/site-packages/cirq/ops/gate_operation.py\u001b[0m in \u001b[0;36m__init__\u001b[0;34m(self, gate, qubits)\u001b[0m\n\u001b[1;32m     38\u001b[0m             \u001b[0mqubits\u001b[0m\u001b[0;34m:\u001b[0m \u001b[0mThe\u001b[0m \u001b[0mqubits\u001b[0m \u001b[0mto\u001b[0m \u001b[0moperate\u001b[0m \u001b[0mon\u001b[0m\u001b[0;34m.\u001b[0m\u001b[0;34m\u001b[0m\u001b[0;34m\u001b[0m\u001b[0m\n\u001b[1;32m     39\u001b[0m         \"\"\"\n\u001b[0;32m---> 40\u001b[0;31m         \u001b[0mgate\u001b[0m\u001b[0;34m.\u001b[0m\u001b[0mvalidate_args\u001b[0m\u001b[0;34m(\u001b[0m\u001b[0mqubits\u001b[0m\u001b[0;34m)\u001b[0m\u001b[0;34m\u001b[0m\u001b[0;34m\u001b[0m\u001b[0m\n\u001b[0m\u001b[1;32m     41\u001b[0m         \u001b[0mself\u001b[0m\u001b[0;34m.\u001b[0m\u001b[0m_gate\u001b[0m \u001b[0;34m=\u001b[0m \u001b[0mgate\u001b[0m\u001b[0;34m\u001b[0m\u001b[0;34m\u001b[0m\u001b[0m\n\u001b[1;32m     42\u001b[0m         \u001b[0mself\u001b[0m\u001b[0;34m.\u001b[0m\u001b[0m_qubits\u001b[0m \u001b[0;34m=\u001b[0m \u001b[0mtuple\u001b[0m\u001b[0;34m(\u001b[0m\u001b[0mqubits\u001b[0m\u001b[0;34m)\u001b[0m\u001b[0;34m\u001b[0m\u001b[0;34m\u001b[0m\u001b[0m\n",
      "\u001b[0;32m~/.local/lib/python3.8/site-packages/cirq/ops/raw_types.py\u001b[0m in \u001b[0;36mvalidate_args\u001b[0;34m(self, qubits)\u001b[0m\n\u001b[1;32m    189\u001b[0m             \u001b[0mValueError\u001b[0m\u001b[0;34m:\u001b[0m \u001b[0mThe\u001b[0m \u001b[0mgate\u001b[0m \u001b[0mcan\u001b[0m\u001b[0;31m'\u001b[0m\u001b[0mt\u001b[0m \u001b[0mbe\u001b[0m \u001b[0mapplied\u001b[0m \u001b[0mto\u001b[0m \u001b[0mthe\u001b[0m \u001b[0mqubits\u001b[0m\u001b[0;34m.\u001b[0m\u001b[0;34m\u001b[0m\u001b[0;34m\u001b[0m\u001b[0m\n\u001b[1;32m    190\u001b[0m         \"\"\"\n\u001b[0;32m--> 191\u001b[0;31m         \u001b[0m_validate_qid_shape\u001b[0m\u001b[0;34m(\u001b[0m\u001b[0mself\u001b[0m\u001b[0;34m,\u001b[0m \u001b[0mqubits\u001b[0m\u001b[0;34m)\u001b[0m\u001b[0;34m\u001b[0m\u001b[0;34m\u001b[0m\u001b[0m\n\u001b[0m\u001b[1;32m    192\u001b[0m \u001b[0;34m\u001b[0m\u001b[0m\n\u001b[1;32m    193\u001b[0m     \u001b[0;32mdef\u001b[0m \u001b[0mon\u001b[0m\u001b[0;34m(\u001b[0m\u001b[0mself\u001b[0m\u001b[0;34m,\u001b[0m \u001b[0;34m*\u001b[0m\u001b[0mqubits\u001b[0m\u001b[0;34m:\u001b[0m \u001b[0mQid\u001b[0m\u001b[0;34m)\u001b[0m \u001b[0;34m->\u001b[0m \u001b[0;34m'Operation'\u001b[0m\u001b[0;34m:\u001b[0m\u001b[0;34m\u001b[0m\u001b[0;34m\u001b[0m\u001b[0m\n",
      "\u001b[0;32m~/.local/lib/python3.8/site-packages/cirq/ops/raw_types.py\u001b[0m in \u001b[0;36m_validate_qid_shape\u001b[0;34m(val, qubits)\u001b[0m\n\u001b[1;32m    691\u001b[0m                          'Expected {} qubits but got <{!r}>.'.format(\n\u001b[1;32m    692\u001b[0m                              val, len(qid_shape), qubits))\n\u001b[0;32m--> 693\u001b[0;31m     if any(qid.dimension != dimension\n\u001b[0m\u001b[1;32m    694\u001b[0m            for qid, dimension in zip(qubits, qid_shape)):\n\u001b[1;32m    695\u001b[0m         raise ValueError('Wrong shape of qids for <{!r}>. '\n",
      "\u001b[0;32m~/.local/lib/python3.8/site-packages/cirq/ops/raw_types.py\u001b[0m in \u001b[0;36m<genexpr>\u001b[0;34m(.0)\u001b[0m\n\u001b[1;32m    691\u001b[0m                          'Expected {} qubits but got <{!r}>.'.format(\n\u001b[1;32m    692\u001b[0m                              val, len(qid_shape), qubits))\n\u001b[0;32m--> 693\u001b[0;31m     if any(qid.dimension != dimension\n\u001b[0m\u001b[1;32m    694\u001b[0m            for qid, dimension in zip(qubits, qid_shape)):\n\u001b[1;32m    695\u001b[0m         raise ValueError('Wrong shape of qids for <{!r}>. '\n",
      "\u001b[0;31mAttributeError\u001b[0m: 'int' object has no attribute 'dimension'"
     ]
    }
   ],
   "source": [
    "q = cirq.LineQubit.range(3)\n",
    "cirq.Z.on(0).controlled_by(1,2)"
   ]
  },
  {
   "cell_type": "code",
   "execution_count": null,
   "metadata": {},
   "outputs": [],
   "source": []
  }
 ],
 "metadata": {
  "kernelspec": {
   "display_name": "Python 3",
   "language": "python",
   "name": "python3"
  },
  "language_info": {
   "codemirror_mode": {
    "name": "ipython",
    "version": 3
   },
   "file_extension": ".py",
   "mimetype": "text/x-python",
   "name": "python",
   "nbconvert_exporter": "python",
   "pygments_lexer": "ipython3",
   "version": "3.8.2"
  }
 },
 "nbformat": 4,
 "nbformat_minor": 4
}
